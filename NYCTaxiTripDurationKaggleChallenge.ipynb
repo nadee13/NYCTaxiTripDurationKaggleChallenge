{
 "cells": [
  {
   "cell_type": "code",
   "execution_count": 2,
   "metadata": {},
   "outputs": [],
   "source": [
    "%matplotlib inline\n",
    "import pandas as pd\n",
    "from datetime import datetime\n",
    "import pandas as pd\n",
    "from sklearn.model_selection import train_test_split\n",
    "import xgboost as xgb\n",
    "from sklearn.linear_model import LinearRegression, Ridge, BayesianRidge\n",
    "from sklearn.cluster import MiniBatchKMeans\n",
    "from sklearn.metrics import mean_squared_error\n",
    "from math import radians, cos, sin, asin, sqrt\n",
    "import seaborn as sns\n",
    "import matplotlib\n",
    "import numpy as np\n",
    "import matplotlib.pyplot as plt\n",
    "plt.rcParams['figure.figsize'] = [16, 10]"
   ]
  },
  {
   "cell_type": "code",
   "execution_count": 3,
   "metadata": {},
   "outputs": [],
   "source": [
    "train = pd.read_csv('train.csv')\n",
    "test = pd.read_csv('test.csv')"
   ]
  },
  {
   "cell_type": "code",
   "execution_count": 4,
   "metadata": {
    "scrolled": false
   },
   "outputs": [
    {
     "data": {
      "text/html": [
       "<div>\n",
       "<style scoped>\n",
       "    .dataframe tbody tr th:only-of-type {\n",
       "        vertical-align: middle;\n",
       "    }\n",
       "\n",
       "    .dataframe tbody tr th {\n",
       "        vertical-align: top;\n",
       "    }\n",
       "\n",
       "    .dataframe thead th {\n",
       "        text-align: right;\n",
       "    }\n",
       "</style>\n",
       "<table border=\"1\" class=\"dataframe\">\n",
       "  <thead>\n",
       "    <tr style=\"text-align: right;\">\n",
       "      <th></th>\n",
       "      <th>id</th>\n",
       "      <th>vendor_id</th>\n",
       "      <th>pickup_datetime</th>\n",
       "      <th>dropoff_datetime</th>\n",
       "      <th>passenger_count</th>\n",
       "      <th>pickup_longitude</th>\n",
       "      <th>pickup_latitude</th>\n",
       "      <th>dropoff_longitude</th>\n",
       "      <th>dropoff_latitude</th>\n",
       "      <th>store_and_fwd_flag</th>\n",
       "      <th>trip_duration</th>\n",
       "    </tr>\n",
       "  </thead>\n",
       "  <tbody>\n",
       "    <tr>\n",
       "      <th>0</th>\n",
       "      <td>id2875421</td>\n",
       "      <td>2</td>\n",
       "      <td>2016-03-14 17:24:55</td>\n",
       "      <td>2016-03-14 17:32:30</td>\n",
       "      <td>1</td>\n",
       "      <td>-73.982</td>\n",
       "      <td>40.768</td>\n",
       "      <td>-73.965</td>\n",
       "      <td>40.766</td>\n",
       "      <td>N</td>\n",
       "      <td>455</td>\n",
       "    </tr>\n",
       "    <tr>\n",
       "      <th>1</th>\n",
       "      <td>id2377394</td>\n",
       "      <td>1</td>\n",
       "      <td>2016-06-12 00:43:35</td>\n",
       "      <td>2016-06-12 00:54:38</td>\n",
       "      <td>1</td>\n",
       "      <td>-73.980</td>\n",
       "      <td>40.739</td>\n",
       "      <td>-73.999</td>\n",
       "      <td>40.731</td>\n",
       "      <td>N</td>\n",
       "      <td>663</td>\n",
       "    </tr>\n",
       "    <tr>\n",
       "      <th>2</th>\n",
       "      <td>id3858529</td>\n",
       "      <td>2</td>\n",
       "      <td>2016-01-19 11:35:24</td>\n",
       "      <td>2016-01-19 12:10:48</td>\n",
       "      <td>1</td>\n",
       "      <td>-73.979</td>\n",
       "      <td>40.764</td>\n",
       "      <td>-74.005</td>\n",
       "      <td>40.710</td>\n",
       "      <td>N</td>\n",
       "      <td>2124</td>\n",
       "    </tr>\n",
       "    <tr>\n",
       "      <th>3</th>\n",
       "      <td>id3504673</td>\n",
       "      <td>2</td>\n",
       "      <td>2016-04-06 19:32:31</td>\n",
       "      <td>2016-04-06 19:39:40</td>\n",
       "      <td>1</td>\n",
       "      <td>-74.010</td>\n",
       "      <td>40.720</td>\n",
       "      <td>-74.012</td>\n",
       "      <td>40.707</td>\n",
       "      <td>N</td>\n",
       "      <td>429</td>\n",
       "    </tr>\n",
       "    <tr>\n",
       "      <th>4</th>\n",
       "      <td>id2181028</td>\n",
       "      <td>2</td>\n",
       "      <td>2016-03-26 13:30:55</td>\n",
       "      <td>2016-03-26 13:38:10</td>\n",
       "      <td>1</td>\n",
       "      <td>-73.973</td>\n",
       "      <td>40.793</td>\n",
       "      <td>-73.973</td>\n",
       "      <td>40.783</td>\n",
       "      <td>N</td>\n",
       "      <td>435</td>\n",
       "    </tr>\n",
       "  </tbody>\n",
       "</table>\n",
       "</div>"
      ],
      "text/plain": [
       "          id  vendor_id      pickup_datetime     dropoff_datetime  \\\n",
       "0  id2875421          2  2016-03-14 17:24:55  2016-03-14 17:32:30   \n",
       "1  id2377394          1  2016-06-12 00:43:35  2016-06-12 00:54:38   \n",
       "2  id3858529          2  2016-01-19 11:35:24  2016-01-19 12:10:48   \n",
       "3  id3504673          2  2016-04-06 19:32:31  2016-04-06 19:39:40   \n",
       "4  id2181028          2  2016-03-26 13:30:55  2016-03-26 13:38:10   \n",
       "\n",
       "   passenger_count  pickup_longitude  pickup_latitude  dropoff_longitude  \\\n",
       "0                1           -73.982           40.768            -73.965   \n",
       "1                1           -73.980           40.739            -73.999   \n",
       "2                1           -73.979           40.764            -74.005   \n",
       "3                1           -74.010           40.720            -74.012   \n",
       "4                1           -73.973           40.793            -73.973   \n",
       "\n",
       "   dropoff_latitude store_and_fwd_flag  trip_duration  \n",
       "0            40.766                  N            455  \n",
       "1            40.731                  N            663  \n",
       "2            40.710                  N           2124  \n",
       "3            40.707                  N            429  \n",
       "4            40.783                  N            435  "
      ]
     },
     "execution_count": 4,
     "metadata": {},
     "output_type": "execute_result"
    }
   ],
   "source": [
    "pd.set_option('display.float_format', lambda x: '%.3f' % x)\n",
    "train.head()"
   ]
  },
  {
   "cell_type": "code",
   "execution_count": 5,
   "metadata": {
    "scrolled": false
   },
   "outputs": [
    {
     "data": {
      "text/html": [
       "<div>\n",
       "<style scoped>\n",
       "    .dataframe tbody tr th:only-of-type {\n",
       "        vertical-align: middle;\n",
       "    }\n",
       "\n",
       "    .dataframe tbody tr th {\n",
       "        vertical-align: top;\n",
       "    }\n",
       "\n",
       "    .dataframe thead th {\n",
       "        text-align: right;\n",
       "    }\n",
       "</style>\n",
       "<table border=\"1\" class=\"dataframe\">\n",
       "  <thead>\n",
       "    <tr style=\"text-align: right;\">\n",
       "      <th></th>\n",
       "      <th>vendor_id</th>\n",
       "      <th>passenger_count</th>\n",
       "      <th>pickup_longitude</th>\n",
       "      <th>pickup_latitude</th>\n",
       "      <th>dropoff_longitude</th>\n",
       "      <th>dropoff_latitude</th>\n",
       "      <th>trip_duration</th>\n",
       "    </tr>\n",
       "  </thead>\n",
       "  <tbody>\n",
       "    <tr>\n",
       "      <th>count</th>\n",
       "      <td>1458644.000</td>\n",
       "      <td>1458644.000</td>\n",
       "      <td>1458644.000</td>\n",
       "      <td>1458644.000</td>\n",
       "      <td>1458644.000</td>\n",
       "      <td>1458644.000</td>\n",
       "      <td>1458644.000</td>\n",
       "    </tr>\n",
       "    <tr>\n",
       "      <th>mean</th>\n",
       "      <td>1.535</td>\n",
       "      <td>1.665</td>\n",
       "      <td>-73.973</td>\n",
       "      <td>40.751</td>\n",
       "      <td>-73.973</td>\n",
       "      <td>40.752</td>\n",
       "      <td>959.492</td>\n",
       "    </tr>\n",
       "    <tr>\n",
       "      <th>std</th>\n",
       "      <td>0.499</td>\n",
       "      <td>1.314</td>\n",
       "      <td>0.071</td>\n",
       "      <td>0.033</td>\n",
       "      <td>0.071</td>\n",
       "      <td>0.036</td>\n",
       "      <td>5237.432</td>\n",
       "    </tr>\n",
       "    <tr>\n",
       "      <th>min</th>\n",
       "      <td>1.000</td>\n",
       "      <td>0.000</td>\n",
       "      <td>-121.933</td>\n",
       "      <td>34.360</td>\n",
       "      <td>-121.933</td>\n",
       "      <td>32.181</td>\n",
       "      <td>1.000</td>\n",
       "    </tr>\n",
       "    <tr>\n",
       "      <th>25%</th>\n",
       "      <td>1.000</td>\n",
       "      <td>1.000</td>\n",
       "      <td>-73.992</td>\n",
       "      <td>40.737</td>\n",
       "      <td>-73.991</td>\n",
       "      <td>40.736</td>\n",
       "      <td>397.000</td>\n",
       "    </tr>\n",
       "    <tr>\n",
       "      <th>50%</th>\n",
       "      <td>2.000</td>\n",
       "      <td>1.000</td>\n",
       "      <td>-73.982</td>\n",
       "      <td>40.754</td>\n",
       "      <td>-73.980</td>\n",
       "      <td>40.755</td>\n",
       "      <td>662.000</td>\n",
       "    </tr>\n",
       "    <tr>\n",
       "      <th>75%</th>\n",
       "      <td>2.000</td>\n",
       "      <td>2.000</td>\n",
       "      <td>-73.967</td>\n",
       "      <td>40.768</td>\n",
       "      <td>-73.963</td>\n",
       "      <td>40.770</td>\n",
       "      <td>1075.000</td>\n",
       "    </tr>\n",
       "    <tr>\n",
       "      <th>max</th>\n",
       "      <td>2.000</td>\n",
       "      <td>9.000</td>\n",
       "      <td>-61.336</td>\n",
       "      <td>51.881</td>\n",
       "      <td>-61.336</td>\n",
       "      <td>43.921</td>\n",
       "      <td>3526282.000</td>\n",
       "    </tr>\n",
       "  </tbody>\n",
       "</table>\n",
       "</div>"
      ],
      "text/plain": [
       "        vendor_id  passenger_count  pickup_longitude  pickup_latitude  \\\n",
       "count 1458644.000      1458644.000       1458644.000      1458644.000   \n",
       "mean        1.535            1.665           -73.973           40.751   \n",
       "std         0.499            1.314             0.071            0.033   \n",
       "min         1.000            0.000          -121.933           34.360   \n",
       "25%         1.000            1.000           -73.992           40.737   \n",
       "50%         2.000            1.000           -73.982           40.754   \n",
       "75%         2.000            2.000           -73.967           40.768   \n",
       "max         2.000            9.000           -61.336           51.881   \n",
       "\n",
       "       dropoff_longitude  dropoff_latitude  trip_duration  \n",
       "count        1458644.000       1458644.000    1458644.000  \n",
       "mean             -73.973            40.752        959.492  \n",
       "std                0.071             0.036       5237.432  \n",
       "min             -121.933            32.181          1.000  \n",
       "25%              -73.991            40.736        397.000  \n",
       "50%              -73.980            40.755        662.000  \n",
       "75%              -73.963            40.770       1075.000  \n",
       "max              -61.336            43.921    3526282.000  "
      ]
     },
     "execution_count": 5,
     "metadata": {},
     "output_type": "execute_result"
    }
   ],
   "source": [
    "train.describe()"
   ]
  },
  {
   "cell_type": "code",
   "execution_count": 6,
   "metadata": {
    "scrolled": true
   },
   "outputs": [
    {
     "name": "stdout",
     "output_type": "stream",
     "text": [
      "<class 'pandas.core.frame.DataFrame'>\n",
      "RangeIndex: 1458644 entries, 0 to 1458643\n",
      "Data columns (total 11 columns):\n",
      "id                    1458644 non-null object\n",
      "vendor_id             1458644 non-null int64\n",
      "pickup_datetime       1458644 non-null object\n",
      "dropoff_datetime      1458644 non-null object\n",
      "passenger_count       1458644 non-null int64\n",
      "pickup_longitude      1458644 non-null float64\n",
      "pickup_latitude       1458644 non-null float64\n",
      "dropoff_longitude     1458644 non-null float64\n",
      "dropoff_latitude      1458644 non-null float64\n",
      "store_and_fwd_flag    1458644 non-null object\n",
      "trip_duration         1458644 non-null int64\n",
      "dtypes: float64(4), int64(3), object(4)\n",
      "memory usage: 122.4+ MB\n"
     ]
    }
   ],
   "source": [
    "train.info()"
   ]
  },
  {
   "cell_type": "code",
   "execution_count": 7,
   "metadata": {},
   "outputs": [],
   "source": [
    "m = np.mean(train['trip_duration'])\n",
    "s = np.std(train['trip_duration'])\n",
    "train = train[train['trip_duration'] <= m + 4*s]\n",
    "train = train[train['trip_duration'] >= m - 4*s]"
   ]
  },
  {
   "cell_type": "code",
   "execution_count": 8,
   "metadata": {},
   "outputs": [],
   "source": [
    "train = train[train['pickup_longitude'] <= -73.75]\n",
    "train = train[train['pickup_longitude'] >= -74.03]\n",
    "train = train[train['pickup_latitude'] <= 40.85]\n",
    "train = train[train['pickup_latitude'] >= 40.63]\n",
    "train = train[train['dropoff_longitude'] <= -73.75]\n",
    "train = train[train['dropoff_longitude'] >= -74.03]\n",
    "train = train[train['dropoff_latitude'] <= 40.85]\n",
    "train = train[train['dropoff_latitude'] >= 40.63]"
   ]
  },
  {
   "cell_type": "code",
   "execution_count": 9,
   "metadata": {},
   "outputs": [],
   "source": [
    "train['pickup_datetime'] = pd.to_datetime(train.pickup_datetime)\n",
    "test['pickup_datetime'] = pd.to_datetime(test.pickup_datetime)\n",
    "train.loc[:, 'pickup_date'] = train['pickup_datetime'].dt.date\n",
    "test.loc[:, 'pickup_date'] = test['pickup_datetime'].dt.date\n",
    "train['dropoff_datetime'] = pd.to_datetime(train.dropoff_datetime) #Not in Test\n",
    "###train.loc[:, 'dropoff_date'] = train['dropoff_datetime'].dt.date"
   ]
  },
  {
   "cell_type": "code",
   "execution_count": 10,
   "metadata": {},
   "outputs": [
    {
     "data": {
      "text/html": [
       "<div>\n",
       "<style scoped>\n",
       "    .dataframe tbody tr th:only-of-type {\n",
       "        vertical-align: middle;\n",
       "    }\n",
       "\n",
       "    .dataframe tbody tr th {\n",
       "        vertical-align: top;\n",
       "    }\n",
       "\n",
       "    .dataframe thead th {\n",
       "        text-align: right;\n",
       "    }\n",
       "</style>\n",
       "<table border=\"1\" class=\"dataframe\">\n",
       "  <thead>\n",
       "    <tr style=\"text-align: right;\">\n",
       "      <th></th>\n",
       "      <th>id</th>\n",
       "      <th>vendor_id</th>\n",
       "      <th>pickup_datetime</th>\n",
       "      <th>dropoff_datetime</th>\n",
       "      <th>passenger_count</th>\n",
       "      <th>pickup_longitude</th>\n",
       "      <th>pickup_latitude</th>\n",
       "      <th>dropoff_longitude</th>\n",
       "      <th>dropoff_latitude</th>\n",
       "      <th>store_and_fwd_flag</th>\n",
       "      <th>trip_duration</th>\n",
       "      <th>pickup_date</th>\n",
       "    </tr>\n",
       "  </thead>\n",
       "  <tbody>\n",
       "    <tr>\n",
       "      <th>0</th>\n",
       "      <td>id2875421</td>\n",
       "      <td>2</td>\n",
       "      <td>2016-03-14 17:24:55</td>\n",
       "      <td>2016-03-14 17:32:30</td>\n",
       "      <td>1</td>\n",
       "      <td>-73.982</td>\n",
       "      <td>40.768</td>\n",
       "      <td>-73.965</td>\n",
       "      <td>40.766</td>\n",
       "      <td>N</td>\n",
       "      <td>455</td>\n",
       "      <td>2016-03-14</td>\n",
       "    </tr>\n",
       "    <tr>\n",
       "      <th>1</th>\n",
       "      <td>id2377394</td>\n",
       "      <td>1</td>\n",
       "      <td>2016-06-12 00:43:35</td>\n",
       "      <td>2016-06-12 00:54:38</td>\n",
       "      <td>1</td>\n",
       "      <td>-73.980</td>\n",
       "      <td>40.739</td>\n",
       "      <td>-73.999</td>\n",
       "      <td>40.731</td>\n",
       "      <td>N</td>\n",
       "      <td>663</td>\n",
       "      <td>2016-06-12</td>\n",
       "    </tr>\n",
       "    <tr>\n",
       "      <th>2</th>\n",
       "      <td>id3858529</td>\n",
       "      <td>2</td>\n",
       "      <td>2016-01-19 11:35:24</td>\n",
       "      <td>2016-01-19 12:10:48</td>\n",
       "      <td>1</td>\n",
       "      <td>-73.979</td>\n",
       "      <td>40.764</td>\n",
       "      <td>-74.005</td>\n",
       "      <td>40.710</td>\n",
       "      <td>N</td>\n",
       "      <td>2124</td>\n",
       "      <td>2016-01-19</td>\n",
       "    </tr>\n",
       "    <tr>\n",
       "      <th>3</th>\n",
       "      <td>id3504673</td>\n",
       "      <td>2</td>\n",
       "      <td>2016-04-06 19:32:31</td>\n",
       "      <td>2016-04-06 19:39:40</td>\n",
       "      <td>1</td>\n",
       "      <td>-74.010</td>\n",
       "      <td>40.720</td>\n",
       "      <td>-74.012</td>\n",
       "      <td>40.707</td>\n",
       "      <td>N</td>\n",
       "      <td>429</td>\n",
       "      <td>2016-04-06</td>\n",
       "    </tr>\n",
       "    <tr>\n",
       "      <th>4</th>\n",
       "      <td>id2181028</td>\n",
       "      <td>2</td>\n",
       "      <td>2016-03-26 13:30:55</td>\n",
       "      <td>2016-03-26 13:38:10</td>\n",
       "      <td>1</td>\n",
       "      <td>-73.973</td>\n",
       "      <td>40.793</td>\n",
       "      <td>-73.973</td>\n",
       "      <td>40.783</td>\n",
       "      <td>N</td>\n",
       "      <td>435</td>\n",
       "      <td>2016-03-26</td>\n",
       "    </tr>\n",
       "  </tbody>\n",
       "</table>\n",
       "</div>"
      ],
      "text/plain": [
       "          id  vendor_id     pickup_datetime    dropoff_datetime  \\\n",
       "0  id2875421          2 2016-03-14 17:24:55 2016-03-14 17:32:30   \n",
       "1  id2377394          1 2016-06-12 00:43:35 2016-06-12 00:54:38   \n",
       "2  id3858529          2 2016-01-19 11:35:24 2016-01-19 12:10:48   \n",
       "3  id3504673          2 2016-04-06 19:32:31 2016-04-06 19:39:40   \n",
       "4  id2181028          2 2016-03-26 13:30:55 2016-03-26 13:38:10   \n",
       "\n",
       "   passenger_count  pickup_longitude  pickup_latitude  dropoff_longitude  \\\n",
       "0                1           -73.982           40.768            -73.965   \n",
       "1                1           -73.980           40.739            -73.999   \n",
       "2                1           -73.979           40.764            -74.005   \n",
       "3                1           -74.010           40.720            -74.012   \n",
       "4                1           -73.973           40.793            -73.973   \n",
       "\n",
       "   dropoff_latitude store_and_fwd_flag  trip_duration pickup_date  \n",
       "0            40.766                  N            455  2016-03-14  \n",
       "1            40.731                  N            663  2016-06-12  \n",
       "2            40.710                  N           2124  2016-01-19  \n",
       "3            40.707                  N            429  2016-04-06  \n",
       "4            40.783                  N            435  2016-03-26  "
      ]
     },
     "execution_count": 10,
     "metadata": {},
     "output_type": "execute_result"
    }
   ],
   "source": [
    "train.head()"
   ]
  },
  {
   "cell_type": "code",
   "execution_count": 11,
   "metadata": {},
   "outputs": [
    {
     "data": {
      "text/html": [
       "<div>\n",
       "<style scoped>\n",
       "    .dataframe tbody tr th:only-of-type {\n",
       "        vertical-align: middle;\n",
       "    }\n",
       "\n",
       "    .dataframe tbody tr th {\n",
       "        vertical-align: top;\n",
       "    }\n",
       "\n",
       "    .dataframe thead th {\n",
       "        text-align: right;\n",
       "    }\n",
       "</style>\n",
       "<table border=\"1\" class=\"dataframe\">\n",
       "  <thead>\n",
       "    <tr style=\"text-align: right;\">\n",
       "      <th></th>\n",
       "      <th>id</th>\n",
       "      <th>vendor_id</th>\n",
       "      <th>pickup_datetime</th>\n",
       "      <th>passenger_count</th>\n",
       "      <th>pickup_longitude</th>\n",
       "      <th>pickup_latitude</th>\n",
       "      <th>dropoff_longitude</th>\n",
       "      <th>dropoff_latitude</th>\n",
       "      <th>store_and_fwd_flag</th>\n",
       "      <th>pickup_date</th>\n",
       "    </tr>\n",
       "  </thead>\n",
       "  <tbody>\n",
       "    <tr>\n",
       "      <th>0</th>\n",
       "      <td>id3004672</td>\n",
       "      <td>1</td>\n",
       "      <td>2016-06-30 23:59:58</td>\n",
       "      <td>1</td>\n",
       "      <td>-73.988</td>\n",
       "      <td>40.732</td>\n",
       "      <td>-73.990</td>\n",
       "      <td>40.757</td>\n",
       "      <td>N</td>\n",
       "      <td>2016-06-30</td>\n",
       "    </tr>\n",
       "    <tr>\n",
       "      <th>1</th>\n",
       "      <td>id3505355</td>\n",
       "      <td>1</td>\n",
       "      <td>2016-06-30 23:59:53</td>\n",
       "      <td>1</td>\n",
       "      <td>-73.964</td>\n",
       "      <td>40.680</td>\n",
       "      <td>-73.960</td>\n",
       "      <td>40.655</td>\n",
       "      <td>N</td>\n",
       "      <td>2016-06-30</td>\n",
       "    </tr>\n",
       "    <tr>\n",
       "      <th>2</th>\n",
       "      <td>id1217141</td>\n",
       "      <td>1</td>\n",
       "      <td>2016-06-30 23:59:47</td>\n",
       "      <td>1</td>\n",
       "      <td>-73.997</td>\n",
       "      <td>40.738</td>\n",
       "      <td>-73.986</td>\n",
       "      <td>40.730</td>\n",
       "      <td>N</td>\n",
       "      <td>2016-06-30</td>\n",
       "    </tr>\n",
       "    <tr>\n",
       "      <th>3</th>\n",
       "      <td>id2150126</td>\n",
       "      <td>2</td>\n",
       "      <td>2016-06-30 23:59:41</td>\n",
       "      <td>1</td>\n",
       "      <td>-73.956</td>\n",
       "      <td>40.772</td>\n",
       "      <td>-73.986</td>\n",
       "      <td>40.730</td>\n",
       "      <td>N</td>\n",
       "      <td>2016-06-30</td>\n",
       "    </tr>\n",
       "    <tr>\n",
       "      <th>4</th>\n",
       "      <td>id1598245</td>\n",
       "      <td>1</td>\n",
       "      <td>2016-06-30 23:59:33</td>\n",
       "      <td>1</td>\n",
       "      <td>-73.970</td>\n",
       "      <td>40.761</td>\n",
       "      <td>-73.962</td>\n",
       "      <td>40.756</td>\n",
       "      <td>N</td>\n",
       "      <td>2016-06-30</td>\n",
       "    </tr>\n",
       "  </tbody>\n",
       "</table>\n",
       "</div>"
      ],
      "text/plain": [
       "          id  vendor_id     pickup_datetime  passenger_count  \\\n",
       "0  id3004672          1 2016-06-30 23:59:58                1   \n",
       "1  id3505355          1 2016-06-30 23:59:53                1   \n",
       "2  id1217141          1 2016-06-30 23:59:47                1   \n",
       "3  id2150126          2 2016-06-30 23:59:41                1   \n",
       "4  id1598245          1 2016-06-30 23:59:33                1   \n",
       "\n",
       "   pickup_longitude  pickup_latitude  dropoff_longitude  dropoff_latitude  \\\n",
       "0           -73.988           40.732            -73.990            40.757   \n",
       "1           -73.964           40.680            -73.960            40.655   \n",
       "2           -73.997           40.738            -73.986            40.730   \n",
       "3           -73.956           40.772            -73.986            40.730   \n",
       "4           -73.970           40.761            -73.962            40.756   \n",
       "\n",
       "  store_and_fwd_flag pickup_date  \n",
       "0                  N  2016-06-30  \n",
       "1                  N  2016-06-30  \n",
       "2                  N  2016-06-30  \n",
       "3                  N  2016-06-30  \n",
       "4                  N  2016-06-30  "
      ]
     },
     "execution_count": 11,
     "metadata": {},
     "output_type": "execute_result"
    }
   ],
   "source": [
    "test.head()"
   ]
  },
  {
   "cell_type": "code",
   "execution_count": 12,
   "metadata": {},
   "outputs": [
    {
     "data": {
      "image/png": "[encoded data removed]",
      "text/plain": [
       "<Figure size 432x288 with 1 Axes>"
      ]
     },
     "metadata": {},
     "output_type": "display_data"
    }
   ],
   "source": [
    "plt.hist(train['trip_duration'].values, bins=100)\n",
    "plt.xlabel('trip_duration')\n",
    "plt.ylabel('number of train records')\n",
    "plt.show()"
   ]
  },
  {
   "cell_type": "code",
   "execution_count": 13,
   "metadata": {
    "scrolled": true
   },
   "outputs": [
    {
     "data": {
      "image/png": "[encoded data removed]",
      "text/plain": [
       "<Figure size 432x288 with 1 Axes>"
      ]
     },
     "metadata": {},
     "output_type": "display_data"
    },
    {
     "name": "stderr",
     "output_type": "stream",
     "text": [
      "C:\\Users\\Nadeesha\\Anaconda3\\lib\\site-packages\\matplotlib\\axes\\_axes.py:6462: UserWarning: The 'normed' kwarg is deprecated, and has been replaced by the 'density' kwarg.\n",
      "  warnings.warn(\"The 'normed' kwarg is deprecated, and has been \"\n"
     ]
    },
    {
     "data": {
      "text/plain": [
       "<matplotlib.axes._subplots.AxesSubplot at 0x1cca0328390>"
      ]
     },
     "execution_count": 13,
     "metadata": {},
     "output_type": "execute_result"
    },
    {
     "data": {
      "image/png": "[encoded data removed]",
      "text/plain": [
       "<Figure size 432x288 with 1 Axes>"
      ]
     },
     "metadata": {},
     "output_type": "display_data"
    }
   ],
   "source": [
    "train['log_trip_duration'] = np.log(train['trip_duration'].values + 1)\n",
    "plt.hist(train['log_trip_duration'].values, bins=100)\n",
    "plt.xlabel('log(trip_duration)')\n",
    "plt.ylabel('number of train records')\n",
    "plt.show()\n",
    "sns.distplot(train[\"log_trip_duration\"], bins =100)"
   ]
  },
  {
   "cell_type": "code",
   "execution_count": 14,
   "metadata": {},
   "outputs": [
    {
     "data": {
      "image/png": "[encoded data removed]",
      "text/plain": [
       "<Figure size 432x288 with 1 Axes>"
      ]
     },
     "metadata": {},
     "output_type": "display_data"
    }
   ],
   "source": [
    "plt.plot(train.groupby('pickup_date').count()[['id']], 'o-', label='train')\n",
    "plt.plot(test.groupby('pickup_date').count()[['id']], 'o-', label='test')\n",
    "plt.title('Trips over Time.')\n",
    "plt.legend(loc=0)\n",
    "plt.ylabel('Trips')\n",
    "plt.show()"
   ]
  },
  {
   "cell_type": "code",
   "execution_count": 15,
   "metadata": {},
   "outputs": [
    {
     "name": "stderr",
     "output_type": "stream",
     "text": [
      "No handles with labels found to put in legend.\n"
     ]
    },
    {
     "data": {
      "text/plain": [
       "Text(0,0.5,'Time in Seconds')"
      ]
     },
     "execution_count": 15,
     "metadata": {},
     "output_type": "execute_result"
    },
    {
     "data": {
      "image/png": "[encoded data removed]",
      "text/plain": [
       "<Figure size 1224x720 with 1 Axes>"
      ]
     },
     "metadata": {},
     "output_type": "display_data"
    }
   ],
   "source": [
    "import warnings\n",
    "warnings.filterwarnings(\"ignore\")\n",
    "plot_vendor = train.groupby('vendor_id')['trip_duration'].mean()\n",
    "plt.subplots(1,1,figsize=(17,10))\n",
    "plt.ylim(ymin=800)\n",
    "plt.ylim(ymax=840)\n",
    "sns.barplot(plot_vendor.index,plot_vendor.values)\n",
    "plt.title('Time per Vendor')\n",
    "plt.legend(loc=0)\n",
    "plt.ylabel('Time in Seconds')"
   ]
  },
  {
   "cell_type": "code",
   "execution_count": 16,
   "metadata": {},
   "outputs": [
    {
     "name": "stderr",
     "output_type": "stream",
     "text": [
      "No handles with labels found to put in legend.\n"
     ]
    },
    {
     "data": {
      "text/plain": [
       "<matplotlib.axes._subplots.AxesSubplot at 0x1cc9037bf60>"
      ]
     },
     "execution_count": 16,
     "metadata": {},
     "output_type": "execute_result"
    },
    {
     "data": {
      "image/png": "[encoded data removed]",
      "text/plain": [
       "<Figure size 1224x720 with 1 Axes>"
      ]
     },
     "metadata": {},
     "output_type": "display_data"
    }
   ],
   "source": [
    "snwflag = train.groupby('store_and_fwd_flag')['trip_duration'].mean()\n",
    "\n",
    "plt.subplots(1,1,figsize=(17,10))\n",
    "plt.ylim(ymin=0)\n",
    "plt.ylim(ymax=1100)\n",
    "plt.title('Time per store_and_fwd_flag')\n",
    "plt.legend(loc=0)\n",
    "plt.ylabel('Time in Seconds')\n",
    "sns.barplot(snwflag.index,snwflag.values)"
   ]
  },
  {
   "cell_type": "code",
   "execution_count": 17,
   "metadata": {},
   "outputs": [
    {
     "name": "stderr",
     "output_type": "stream",
     "text": [
      "No handles with labels found to put in legend.\n"
     ]
    },
    {
     "data": {
      "text/plain": [
       "<matplotlib.axes._subplots.AxesSubplot at 0x1cc90032588>"
      ]
     },
     "execution_count": 17,
     "metadata": {},
     "output_type": "execute_result"
    },
    {
     "data": {
      "image/png": "[encoded data removed]",
      "text/plain": [
       "<Figure size 1224x720 with 1 Axes>"
      ]
     },
     "metadata": {},
     "output_type": "display_data"
    }
   ],
   "source": [
    "pc = train.groupby('passenger_count')['trip_duration'].mean()\n",
    "\n",
    "plt.subplots(1,1,figsize=(17,10))\n",
    "plt.ylim(ymin=0)\n",
    "plt.ylim(ymax=1100)\n",
    "plt.title('Time per store_and_fwd_flag')\n",
    "plt.legend(loc=0)\n",
    "plt.ylabel('Time in Seconds')\n",
    "sns.barplot(pc.index,pc.values)"
   ]
  },
  {
   "cell_type": "code",
   "execution_count": 18,
   "metadata": {
    "scrolled": true
   },
   "outputs": [
    {
     "data": {
      "text/plain": [
       "passenger_count\n",
       "0         52\n",
       "1    1018744\n",
       "2     206869\n",
       "3      58990\n",
       "4      27957\n",
       "5      76915\n",
       "6      47641\n",
       "dtype: int64"
      ]
     },
     "execution_count": 18,
     "metadata": {},
     "output_type": "execute_result"
    }
   ],
   "source": [
    "train.groupby('passenger_count').size()"
   ]
  },
  {
   "cell_type": "code",
   "execution_count": 19,
   "metadata": {},
   "outputs": [
    {
     "data": {
      "text/plain": [
       "passenger_count\n",
       "0        23\n",
       "1    443447\n",
       "2     90027\n",
       "3     25686\n",
       "4     12017\n",
       "5     33411\n",
       "6     20521\n",
       "9         2\n",
       "dtype: int64"
      ]
     },
     "execution_count": 19,
     "metadata": {},
     "output_type": "execute_result"
    }
   ],
   "source": [
    "test.groupby('passenger_count').size()"
   ]
  },
  {
   "cell_type": "code",
   "execution_count": 20,
   "metadata": {},
   "outputs": [
    {
     "data": {
      "image/png": "[encoded data removed]",
      "text/plain": [
       "<Figure size 432x288 with 2 Axes>"
      ]
     },
     "metadata": {},
     "output_type": "display_data"
    }
   ],
   "source": [
    "city_long_border = (-74.03, -73.75)\n",
    "city_lat_border = (40.63, 40.85)\n",
    "fig, ax = plt.subplots(ncols=2, sharex=True, sharey=True)\n",
    "ax[0].scatter(train['pickup_longitude'].values[:100000], train['pickup_latitude'].values[:100000],\n",
    "              color='blue', s=1, label='train', alpha=0.1)\n",
    "ax[1].scatter(test['pickup_longitude'].values[:100000], test['pickup_latitude'].values[:100000],\n",
    "              color='green', s=1, label='test', alpha=0.1)\n",
    "fig.suptitle('Train and test area complete overlap.')\n",
    "ax[0].legend(loc=0)\n",
    "ax[0].set_ylabel('latitude')\n",
    "ax[0].set_xlabel('longitude')\n",
    "ax[1].set_xlabel('longitude')\n",
    "ax[1].legend(loc=0)\n",
    "plt.ylim(city_lat_border)\n",
    "plt.xlim(city_long_border)\n",
    "plt.show()"
   ]
  },
  {
   "cell_type": "code",
   "execution_count": 21,
   "metadata": {},
   "outputs": [],
   "source": [
    "def haversine_array(lat1, lng1, lat2, lng2):\n",
    "    lat1, lng1, lat2, lng2 = map(np.radians, (lat1, lng1, lat2, lng2))\n",
    "    AVG_EARTH_RADIUS = 6371  # in km\n",
    "    lat = lat2 - lat1\n",
    "    lng = lng2 - lng1\n",
    "    d = np.sin(lat * 0.5) ** 2 + np.cos(lat1) * np.cos(lat2) * np.sin(lng * 0.5) ** 2\n",
    "    h = 2 * AVG_EARTH_RADIUS * np.arcsin(np.sqrt(d))\n",
    "    return h\n",
    "\n",
    "def dummy_manhattan_distance(lat1, lng1, lat2, lng2):\n",
    "    a = haversine_array(lat1, lng1, lat1, lng2)\n",
    "    b = haversine_array(lat1, lng1, lat2, lng1)\n",
    "    return a + b\n",
    "\n",
    "def bearing_array(lat1, lng1, lat2, lng2):\n",
    "    AVG_EARTH_RADIUS = 6371  # in km\n",
    "    lng_delta_rad = np.radians(lng2 - lng1)\n",
    "    lat1, lng1, lat2, lng2 = map(np.radians, (lat1, lng1, lat2, lng2))\n",
    "    y = np.sin(lng_delta_rad) * np.cos(lat2)\n",
    "    x = np.cos(lat1) * np.sin(lat2) - np.sin(lat1) * np.cos(lat2) * np.cos(lng_delta_rad)\n",
    "    return np.degrees(np.arctan2(y, x))"
   ]
  },
  {
   "cell_type": "code",
   "execution_count": 22,
   "metadata": {},
   "outputs": [],
   "source": [
    "train.loc[:, 'distance_haversine'] = haversine_array(train['pickup_latitude'].values, train['pickup_longitude'].values, train['dropoff_latitude'].values, train['dropoff_longitude'].values)\n",
    "test.loc[:, 'distance_haversine'] = haversine_array(test['pickup_latitude'].values, test['pickup_longitude'].values, test['dropoff_latitude'].values, test['dropoff_longitude'].values)    \n",
    "    \n",
    "train.loc[:, 'distance_dummy_manhattan'] =  dummy_manhattan_distance(train['pickup_latitude'].values, train['pickup_longitude'].values, train['dropoff_latitude'].values, train['dropoff_longitude'].values)\n",
    "test.loc[:, 'distance_dummy_manhattan'] =  dummy_manhattan_distance(test['pickup_latitude'].values, test['pickup_longitude'].values, test['dropoff_latitude'].values, test['dropoff_longitude'].values)\n",
    "\n",
    "train.loc[:, 'direction'] = bearing_array(train['pickup_latitude'].values, train['pickup_longitude'].values, train['dropoff_latitude'].values, train['dropoff_longitude'].values)\n",
    "test.loc[:, 'direction'] = bearing_array(test['pickup_latitude'].values, test['pickup_longitude'].values, test['dropoff_latitude'].values, test['dropoff_longitude'].values)"
   ]
  },
  {
   "cell_type": "code",
   "execution_count": 23,
   "metadata": {},
   "outputs": [],
   "source": [
    "coords = np.vstack((train[['pickup_latitude', 'pickup_longitude']].values,\n",
    "                    train[['dropoff_latitude', 'dropoff_longitude']].values))"
   ]
  },
  {
   "cell_type": "code",
   "execution_count": 24,
   "metadata": {},
   "outputs": [],
   "source": [
    "sample_ind = np.random.permutation(len(coords))[:500000]\n",
    "kmeans = MiniBatchKMeans(n_clusters=100, batch_size=10000).fit(coords[sample_ind])"
   ]
  },
  {
   "cell_type": "code",
   "execution_count": 25,
   "metadata": {},
   "outputs": [],
   "source": [
    "train.loc[:, 'pickup_cluster'] = kmeans.predict(train[['pickup_latitude', 'pickup_longitude']])\n",
    "train.loc[:, 'dropoff_cluster'] = kmeans.predict(train[['dropoff_latitude', 'dropoff_longitude']])\n",
    "test.loc[:, 'pickup_cluster'] = kmeans.predict(test[['pickup_latitude', 'pickup_longitude']])\n",
    "test.loc[:, 'dropoff_cluster'] = kmeans.predict(test[['dropoff_latitude', 'dropoff_longitude']])"
   ]
  },
  {
   "cell_type": "code",
   "execution_count": 26,
   "metadata": {
    "scrolled": true
   },
   "outputs": [
    {
     "data": {
      "image/png": "[encoded data removed]",
      "text/plain": [
       "<Figure size 432x288 with 1 Axes>"
      ]
     },
     "metadata": {},
     "output_type": "display_data"
    }
   ],
   "source": [
    "fig, ax = plt.subplots(ncols=1, nrows=1)\n",
    "ax.scatter(train.pickup_longitude.values[:500000], train.pickup_latitude.values[:500000], s=10, lw=0,\n",
    "           c=train.pickup_cluster[:500000].values, cmap='autumn', alpha=0.2)\n",
    "ax.set_xlim(city_long_border)\n",
    "ax.set_ylim(city_lat_border)\n",
    "ax.set_xlabel('Longitude')\n",
    "ax.set_ylabel('Latitude')\n",
    "plt.show()"
   ]
  },
  {
   "cell_type": "code",
   "execution_count": 27,
   "metadata": {
    "scrolled": true
   },
   "outputs": [],
   "source": [
    "#Extracting Month\n",
    "train['Month'] = train['pickup_datetime'].dt.month\n",
    "test['Month'] = test['pickup_datetime'].dt.month"
   ]
  },
  {
   "cell_type": "code",
   "execution_count": 28,
   "metadata": {},
   "outputs": [
    {
     "data": {
      "text/plain": [
       "(Month\n",
       " 1    226449\n",
       " 2    235061\n",
       " 3    252449\n",
       " 4    247860\n",
       " 5    244600\n",
       " 6    230749\n",
       " dtype: int64, Month\n",
       " 1     97676\n",
       " 2    102314\n",
       " 3    109697\n",
       " 4    107432\n",
       " 5    107570\n",
       " 6    100445\n",
       " dtype: int64)"
      ]
     },
     "execution_count": 28,
     "metadata": {},
     "output_type": "execute_result"
    }
   ],
   "source": [
    "train.groupby('Month').size(),test.groupby('Month').size()"
   ]
  },
  {
   "cell_type": "code",
   "execution_count": 29,
   "metadata": {},
   "outputs": [
    {
     "data": {
      "text/plain": [
       "(31, 31)"
      ]
     },
     "execution_count": 29,
     "metadata": {},
     "output_type": "execute_result"
    }
   ],
   "source": [
    "train['DayofMonth'] = train['pickup_datetime'].dt.day\n",
    "test['DayofMonth'] = test['pickup_datetime'].dt.day\n",
    "len(train.groupby('DayofMonth').size()),len(test.groupby('DayofMonth').size())"
   ]
  },
  {
   "cell_type": "code",
   "execution_count": 30,
   "metadata": {},
   "outputs": [
    {
     "data": {
      "text/plain": [
       "(24, 24)"
      ]
     },
     "execution_count": 30,
     "metadata": {},
     "output_type": "execute_result"
    }
   ],
   "source": [
    "train['Hour'] = train['pickup_datetime'].dt.hour\n",
    "test['Hour'] = test['pickup_datetime'].dt.hour\n",
    "len(train.groupby('Hour').size()),len(test.groupby('Hour').size())"
   ]
  },
  {
   "cell_type": "code",
   "execution_count": 31,
   "metadata": {},
   "outputs": [
    {
     "data": {
      "text/plain": [
       "(7, 7)"
      ]
     },
     "execution_count": 31,
     "metadata": {},
     "output_type": "execute_result"
    }
   ],
   "source": [
    "train['dayofweek'] = train['pickup_datetime'].dt.dayofweek\n",
    "test['dayofweek'] = test['pickup_datetime'].dt.dayofweek\n",
    "len(train.groupby('dayofweek').size()),len(test.groupby('dayofweek').size())"
   ]
  },
  {
   "cell_type": "code",
   "execution_count": 32,
   "metadata": {},
   "outputs": [
    {
     "data": {
      "image/png": "[encoded data removed]",
      "text/plain": [
       "<Figure size 432x288 with 3 Axes>"
      ]
     },
     "metadata": {},
     "output_type": "display_data"
    }
   ],
   "source": [
    "train.loc[:, 'avg_speed_h'] = 1000 * train['distance_haversine'] / train['trip_duration']\n",
    "train.loc[:, 'avg_speed_m'] = 1000 * train['distance_dummy_manhattan'] / train['trip_duration']\n",
    "fig, ax = plt.subplots(ncols=3, sharey=True)\n",
    "ax[0].plot(train.groupby('Hour').mean()['avg_speed_h'], 'bo-', lw=2, alpha=0.7)\n",
    "ax[1].plot(train.groupby('dayofweek').mean()['avg_speed_h'], 'go-', lw=2, alpha=0.7)\n",
    "ax[2].plot(train.groupby('Month').mean()['avg_speed_h'], 'ro-', lw=2, alpha=0.7)\n",
    "ax[0].set_xlabel('Hour of Day')\n",
    "ax[1].set_xlabel('Day of Week')\n",
    "ax[2].set_xlabel('Month of Year')\n",
    "ax[0].set_ylabel('Average Speed')\n",
    "fig.suptitle('Average Traffic Speed by Date-part')\n",
    "plt.show()"
   ]
  },
  {
   "cell_type": "code",
   "execution_count": 33,
   "metadata": {
    "scrolled": false
   },
   "outputs": [
    {
     "data": {
      "image/png": "[encoded data removed]",
      "text/plain": [
       "<Figure size 432x288 with 1 Axes>"
      ]
     },
     "metadata": {},
     "output_type": "display_data"
    }
   ],
   "source": [
    "train.loc[:, 'pickup_lat_bin'] = np.round(train['pickup_latitude'], 3)\n",
    "train.loc[:, 'pickup_long_bin'] = np.round(train['pickup_longitude'], 3)\n",
    "# Average speed for regions\n",
    "gby_cols = ['pickup_lat_bin', 'pickup_long_bin']\n",
    "coord_speed = train.groupby(gby_cols).mean()[['avg_speed_h']].reset_index()\n",
    "coord_count = train.groupby(gby_cols).count()[['id']].reset_index()\n",
    "coord_stats = pd.merge(coord_speed, coord_count, on=gby_cols)\n",
    "coord_stats = coord_stats[coord_stats['id'] > 100]\n",
    "fig, ax = plt.subplots(ncols=1, nrows=1)\n",
    "ax.scatter(train.pickup_longitude.values[:500000], train.pickup_latitude.values[:500000], color='black', s=1, alpha=0.5)\n",
    "ax.scatter(coord_stats.pickup_long_bin.values, coord_stats.pickup_lat_bin.values, c=coord_stats.avg_speed_h.values,\n",
    "           cmap='RdYlGn', s=20, alpha=0.5, vmin=1, vmax=8)\n",
    "ax.set_xlim(city_long_border)\n",
    "ax.set_ylim(city_lat_border)\n",
    "ax.set_xlabel('Longitude')\n",
    "ax.set_ylabel('Latitude')\n",
    "plt.title('Average speed')\n",
    "plt.show()"
   ]
  },
  {
   "cell_type": "code",
   "execution_count": 34,
   "metadata": {},
   "outputs": [],
   "source": [
    "fr1 = pd.read_csv('fastest_routes_train_part_1.csv', usecols=['id', 'total_distance', 'total_travel_time',  'number_of_steps'])\n",
    "fr2 = pd.read_csv('fastest_routes_train_part_2.csv', usecols=['id', 'total_distance', 'total_travel_time', 'number_of_steps'])\n",
    "test_street_info = pd.read_csv('fastest_routes_test.csv',\n",
    "                               usecols=['id', 'total_distance', 'total_travel_time', 'number_of_steps'])\n",
    "train_street_info = pd.concat((fr1, fr2))\n",
    "train = train.merge(train_street_info, how='left', on='id')\n",
    "test = test.merge(test_street_info, how='left', on='id')"
   ]
  },
  {
   "cell_type": "code",
   "execution_count": 35,
   "metadata": {},
   "outputs": [
    {
     "data": {
      "text/plain": [
       "((1437168, 29), (625134, 22))"
      ]
     },
     "execution_count": 35,
     "metadata": {},
     "output_type": "execute_result"
    }
   ],
   "source": [
    "train.shape, test.shape"
   ]
  },
  {
   "cell_type": "code",
   "execution_count": 36,
   "metadata": {},
   "outputs": [
    {
     "data": {
      "text/html": [
       "<div>\n",
       "<style scoped>\n",
       "    .dataframe tbody tr th:only-of-type {\n",
       "        vertical-align: middle;\n",
       "    }\n",
       "\n",
       "    .dataframe tbody tr th {\n",
       "        vertical-align: top;\n",
       "    }\n",
       "\n",
       "    .dataframe thead th {\n",
       "        text-align: right;\n",
       "    }\n",
       "</style>\n",
       "<table border=\"1\" class=\"dataframe\">\n",
       "  <thead>\n",
       "    <tr style=\"text-align: right;\">\n",
       "      <th></th>\n",
       "      <th>id</th>\n",
       "      <th>vendor_id</th>\n",
       "      <th>pickup_datetime</th>\n",
       "      <th>dropoff_datetime</th>\n",
       "      <th>passenger_count</th>\n",
       "      <th>pickup_longitude</th>\n",
       "      <th>pickup_latitude</th>\n",
       "      <th>dropoff_longitude</th>\n",
       "      <th>dropoff_latitude</th>\n",
       "      <th>store_and_fwd_flag</th>\n",
       "      <th>...</th>\n",
       "      <th>DayofMonth</th>\n",
       "      <th>Hour</th>\n",
       "      <th>dayofweek</th>\n",
       "      <th>avg_speed_h</th>\n",
       "      <th>avg_speed_m</th>\n",
       "      <th>pickup_lat_bin</th>\n",
       "      <th>pickup_long_bin</th>\n",
       "      <th>total_distance</th>\n",
       "      <th>total_travel_time</th>\n",
       "      <th>number_of_steps</th>\n",
       "    </tr>\n",
       "  </thead>\n",
       "  <tbody>\n",
       "    <tr>\n",
       "      <th>0</th>\n",
       "      <td>id2875421</td>\n",
       "      <td>2</td>\n",
       "      <td>2016-03-14 17:24:55</td>\n",
       "      <td>2016-03-14 17:32:30</td>\n",
       "      <td>1</td>\n",
       "      <td>-73.982</td>\n",
       "      <td>40.768</td>\n",
       "      <td>-73.965</td>\n",
       "      <td>40.766</td>\n",
       "      <td>N</td>\n",
       "      <td>...</td>\n",
       "      <td>14</td>\n",
       "      <td>17</td>\n",
       "      <td>0</td>\n",
       "      <td>3.293</td>\n",
       "      <td>3.814</td>\n",
       "      <td>40.768</td>\n",
       "      <td>-73.982</td>\n",
       "      <td>2009.100</td>\n",
       "      <td>164.900</td>\n",
       "      <td>5.000</td>\n",
       "    </tr>\n",
       "    <tr>\n",
       "      <th>1</th>\n",
       "      <td>id2377394</td>\n",
       "      <td>1</td>\n",
       "      <td>2016-06-12 00:43:35</td>\n",
       "      <td>2016-06-12 00:54:38</td>\n",
       "      <td>1</td>\n",
       "      <td>-73.980</td>\n",
       "      <td>40.739</td>\n",
       "      <td>-73.999</td>\n",
       "      <td>40.731</td>\n",
       "      <td>N</td>\n",
       "      <td>...</td>\n",
       "      <td>12</td>\n",
       "      <td>0</td>\n",
       "      <td>6</td>\n",
       "      <td>2.723</td>\n",
       "      <td>3.666</td>\n",
       "      <td>40.739</td>\n",
       "      <td>-73.980</td>\n",
       "      <td>2513.200</td>\n",
       "      <td>332.000</td>\n",
       "      <td>6.000</td>\n",
       "    </tr>\n",
       "    <tr>\n",
       "      <th>2</th>\n",
       "      <td>id3858529</td>\n",
       "      <td>2</td>\n",
       "      <td>2016-01-19 11:35:24</td>\n",
       "      <td>2016-01-19 12:10:48</td>\n",
       "      <td>1</td>\n",
       "      <td>-73.979</td>\n",
       "      <td>40.764</td>\n",
       "      <td>-74.005</td>\n",
       "      <td>40.710</td>\n",
       "      <td>N</td>\n",
       "      <td>...</td>\n",
       "      <td>19</td>\n",
       "      <td>11</td>\n",
       "      <td>1</td>\n",
       "      <td>3.006</td>\n",
       "      <td>3.862</td>\n",
       "      <td>40.764</td>\n",
       "      <td>-73.979</td>\n",
       "      <td>11060.800</td>\n",
       "      <td>767.600</td>\n",
       "      <td>16.000</td>\n",
       "    </tr>\n",
       "    <tr>\n",
       "      <th>3</th>\n",
       "      <td>id3504673</td>\n",
       "      <td>2</td>\n",
       "      <td>2016-04-06 19:32:31</td>\n",
       "      <td>2016-04-06 19:39:40</td>\n",
       "      <td>1</td>\n",
       "      <td>-74.010</td>\n",
       "      <td>40.720</td>\n",
       "      <td>-74.012</td>\n",
       "      <td>40.707</td>\n",
       "      <td>N</td>\n",
       "      <td>...</td>\n",
       "      <td>6</td>\n",
       "      <td>19</td>\n",
       "      <td>2</td>\n",
       "      <td>3.463</td>\n",
       "      <td>3.873</td>\n",
       "      <td>40.720</td>\n",
       "      <td>-74.010</td>\n",
       "      <td>1779.400</td>\n",
       "      <td>235.800</td>\n",
       "      <td>4.000</td>\n",
       "    </tr>\n",
       "    <tr>\n",
       "      <th>4</th>\n",
       "      <td>id2181028</td>\n",
       "      <td>2</td>\n",
       "      <td>2016-03-26 13:30:55</td>\n",
       "      <td>2016-03-26 13:38:10</td>\n",
       "      <td>1</td>\n",
       "      <td>-73.973</td>\n",
       "      <td>40.793</td>\n",
       "      <td>-73.973</td>\n",
       "      <td>40.783</td>\n",
       "      <td>N</td>\n",
       "      <td>...</td>\n",
       "      <td>26</td>\n",
       "      <td>13</td>\n",
       "      <td>5</td>\n",
       "      <td>2.732</td>\n",
       "      <td>2.757</td>\n",
       "      <td>40.793</td>\n",
       "      <td>-73.973</td>\n",
       "      <td>1614.900</td>\n",
       "      <td>140.100</td>\n",
       "      <td>5.000</td>\n",
       "    </tr>\n",
       "  </tbody>\n",
       "</table>\n",
       "<p>5 rows × 29 columns</p>\n",
       "</div>"
      ],
      "text/plain": [
       "          id  vendor_id     pickup_datetime    dropoff_datetime  \\\n",
       "0  id2875421          2 2016-03-14 17:24:55 2016-03-14 17:32:30   \n",
       "1  id2377394          1 2016-06-12 00:43:35 2016-06-12 00:54:38   \n",
       "2  id3858529          2 2016-01-19 11:35:24 2016-01-19 12:10:48   \n",
       "3  id3504673          2 2016-04-06 19:32:31 2016-04-06 19:39:40   \n",
       "4  id2181028          2 2016-03-26 13:30:55 2016-03-26 13:38:10   \n",
       "\n",
       "   passenger_count  pickup_longitude  pickup_latitude  dropoff_longitude  \\\n",
       "0                1           -73.982           40.768            -73.965   \n",
       "1                1           -73.980           40.739            -73.999   \n",
       "2                1           -73.979           40.764            -74.005   \n",
       "3                1           -74.010           40.720            -74.012   \n",
       "4                1           -73.973           40.793            -73.973   \n",
       "\n",
       "   dropoff_latitude store_and_fwd_flag       ...         DayofMonth Hour  \\\n",
       "0            40.766                  N       ...                 14   17   \n",
       "1            40.731                  N       ...                 12    0   \n",
       "2            40.710                  N       ...                 19   11   \n",
       "3            40.707                  N       ...                  6   19   \n",
       "4            40.783                  N       ...                 26   13   \n",
       "\n",
       "   dayofweek  avg_speed_h  avg_speed_m  pickup_lat_bin  pickup_long_bin  \\\n",
       "0          0        3.293        3.814          40.768          -73.982   \n",
       "1          6        2.723        3.666          40.739          -73.980   \n",
       "2          1        3.006        3.862          40.764          -73.979   \n",
       "3          2        3.463        3.873          40.720          -74.010   \n",
       "4          5        2.732        2.757          40.793          -73.973   \n",
       "\n",
       "   total_distance  total_travel_time  number_of_steps  \n",
       "0        2009.100            164.900            5.000  \n",
       "1        2513.200            332.000            6.000  \n",
       "2       11060.800            767.600           16.000  \n",
       "3        1779.400            235.800            4.000  \n",
       "4        1614.900            140.100            5.000  \n",
       "\n",
       "[5 rows x 29 columns]"
      ]
     },
     "execution_count": 36,
     "metadata": {},
     "output_type": "execute_result"
    }
   ],
   "source": [
    "train.head()"
   ]
  },
  {
   "cell_type": "code",
   "execution_count": 37,
   "metadata": {},
   "outputs": [],
   "source": [
    "vendor_train = pd.get_dummies(train['vendor_id'], prefix='vi', prefix_sep='_')\n",
    "vendor_test = pd.get_dummies(test['vendor_id'], prefix='vi', prefix_sep='_')\n",
    "passenger_count_train = pd.get_dummies(train['passenger_count'], prefix='pc', prefix_sep='_')\n",
    "passenger_count_test = pd.get_dummies(test['passenger_count'], prefix='pc', prefix_sep='_')\n",
    "store_and_fwd_flag_train = pd.get_dummies(train['store_and_fwd_flag'], prefix='sf', prefix_sep='_')\n",
    "store_and_fwd_flag_test = pd.get_dummies(test['store_and_fwd_flag'], prefix='sf', prefix_sep='_')\n",
    "cluster_pickup_train = pd.get_dummies(train['pickup_cluster'], prefix='p', prefix_sep='_')\n",
    "cluster_pickup_test = pd.get_dummies(test['pickup_cluster'], prefix='p', prefix_sep='_')\n",
    "cluster_dropoff_train = pd.get_dummies(train['dropoff_cluster'], prefix='d', prefix_sep='_')\n",
    "cluster_dropoff_test = pd.get_dummies(test['dropoff_cluster'], prefix='d', prefix_sep='_')\n",
    "\n",
    "month_train = pd.get_dummies(train['Month'], prefix='m', prefix_sep='_')\n",
    "month_test = pd.get_dummies(test['Month'], prefix='m', prefix_sep='_')\n",
    "dom_train = pd.get_dummies(train['DayofMonth'], prefix='dom', prefix_sep='_')\n",
    "dom_test = pd.get_dummies(test['DayofMonth'], prefix='dom', prefix_sep='_')\n",
    "hour_train = pd.get_dummies(train['Hour'], prefix='h', prefix_sep='_')\n",
    "hour_test = pd.get_dummies(test['Hour'], prefix='h', prefix_sep='_')\n",
    "dow_train = pd.get_dummies(train['dayofweek'], prefix='dow', prefix_sep='_')\n",
    "dow_test = pd.get_dummies(test['dayofweek'], prefix='dow', prefix_sep='_')"
   ]
  },
  {
   "cell_type": "code",
   "execution_count": 38,
   "metadata": {},
   "outputs": [
    {
     "data": {
      "text/plain": [
       "((1437168, 2), (625134, 2))"
      ]
     },
     "execution_count": 38,
     "metadata": {},
     "output_type": "execute_result"
    }
   ],
   "source": [
    "vendor_train.shape,vendor_test.shape"
   ]
  },
  {
   "cell_type": "code",
   "execution_count": 39,
   "metadata": {},
   "outputs": [
    {
     "data": {
      "text/plain": [
       "((1437168, 7), (625134, 8))"
      ]
     },
     "execution_count": 39,
     "metadata": {},
     "output_type": "execute_result"
    }
   ],
   "source": [
    "passenger_count_train.shape,passenger_count_test.shape"
   ]
  },
  {
   "cell_type": "code",
   "execution_count": 40,
   "metadata": {},
   "outputs": [
    {
     "data": {
      "text/plain": [
       "((1437168, 2), (625134, 2))"
      ]
     },
     "execution_count": 40,
     "metadata": {},
     "output_type": "execute_result"
    }
   ],
   "source": [
    "store_and_fwd_flag_train.shape,store_and_fwd_flag_test.shape"
   ]
  },
  {
   "cell_type": "code",
   "execution_count": 41,
   "metadata": {},
   "outputs": [
    {
     "data": {
      "text/plain": [
       "((1437168, 100), (625134, 100))"
      ]
     },
     "execution_count": 41,
     "metadata": {},
     "output_type": "execute_result"
    }
   ],
   "source": [
    "cluster_pickup_train.shape,cluster_pickup_test.shape"
   ]
  },
  {
   "cell_type": "code",
   "execution_count": 42,
   "metadata": {},
   "outputs": [
    {
     "data": {
      "text/plain": [
       "((1437168, 100), (625134, 100))"
      ]
     },
     "execution_count": 42,
     "metadata": {},
     "output_type": "execute_result"
    }
   ],
   "source": [
    "cluster_dropoff_train.shape,cluster_dropoff_test.shape"
   ]
  },
  {
   "cell_type": "code",
   "execution_count": 43,
   "metadata": {},
   "outputs": [
    {
     "data": {
      "text/plain": [
       "((1437168, 6), (625134, 6))"
      ]
     },
     "execution_count": 43,
     "metadata": {},
     "output_type": "execute_result"
    }
   ],
   "source": [
    "month_train.shape,month_test.shape"
   ]
  },
  {
   "cell_type": "code",
   "execution_count": 44,
   "metadata": {},
   "outputs": [
    {
     "data": {
      "text/plain": [
       "((1437168, 31), (625134, 31))"
      ]
     },
     "execution_count": 44,
     "metadata": {},
     "output_type": "execute_result"
    }
   ],
   "source": [
    "dom_train.shape,dom_test.shape"
   ]
  },
  {
   "cell_type": "code",
   "execution_count": 45,
   "metadata": {},
   "outputs": [
    {
     "data": {
      "text/plain": [
       "((1437168, 24), (625134, 24))"
      ]
     },
     "execution_count": 45,
     "metadata": {},
     "output_type": "execute_result"
    }
   ],
   "source": [
    "hour_train.shape,hour_test.shape"
   ]
  },
  {
   "cell_type": "code",
   "execution_count": 46,
   "metadata": {},
   "outputs": [
    {
     "data": {
      "text/plain": [
       "((1437168, 7), (625134, 7))"
      ]
     },
     "execution_count": 46,
     "metadata": {},
     "output_type": "execute_result"
    }
   ],
   "source": [
    "dow_train.shape,dow_test.shape"
   ]
  },
  {
   "cell_type": "code",
   "execution_count": 47,
   "metadata": {},
   "outputs": [
    {
     "data": {
      "text/html": [
       "<div>\n",
       "<style scoped>\n",
       "    .dataframe tbody tr th:only-of-type {\n",
       "        vertical-align: middle;\n",
       "    }\n",
       "\n",
       "    .dataframe tbody tr th {\n",
       "        vertical-align: top;\n",
       "    }\n",
       "\n",
       "    .dataframe thead th {\n",
       "        text-align: right;\n",
       "    }\n",
       "</style>\n",
       "<table border=\"1\" class=\"dataframe\">\n",
       "  <thead>\n",
       "    <tr style=\"text-align: right;\">\n",
       "      <th></th>\n",
       "      <th>vi_1</th>\n",
       "      <th>vi_2</th>\n",
       "    </tr>\n",
       "  </thead>\n",
       "  <tbody>\n",
       "    <tr>\n",
       "      <th>0</th>\n",
       "      <td>0</td>\n",
       "      <td>1</td>\n",
       "    </tr>\n",
       "    <tr>\n",
       "      <th>1</th>\n",
       "      <td>1</td>\n",
       "      <td>0</td>\n",
       "    </tr>\n",
       "    <tr>\n",
       "      <th>2</th>\n",
       "      <td>0</td>\n",
       "      <td>1</td>\n",
       "    </tr>\n",
       "    <tr>\n",
       "      <th>3</th>\n",
       "      <td>0</td>\n",
       "      <td>1</td>\n",
       "    </tr>\n",
       "    <tr>\n",
       "      <th>4</th>\n",
       "      <td>0</td>\n",
       "      <td>1</td>\n",
       "    </tr>\n",
       "  </tbody>\n",
       "</table>\n",
       "</div>"
      ],
      "text/plain": [
       "   vi_1  vi_2\n",
       "0     0     1\n",
       "1     1     0\n",
       "2     0     1\n",
       "3     0     1\n",
       "4     0     1"
      ]
     },
     "execution_count": 47,
     "metadata": {},
     "output_type": "execute_result"
    }
   ],
   "source": [
    "vendor_train.head()"
   ]
  },
  {
   "cell_type": "code",
   "execution_count": 48,
   "metadata": {},
   "outputs": [
    {
     "data": {
      "text/html": [
       "<div>\n",
       "<style scoped>\n",
       "    .dataframe tbody tr th:only-of-type {\n",
       "        vertical-align: middle;\n",
       "    }\n",
       "\n",
       "    .dataframe tbody tr th {\n",
       "        vertical-align: top;\n",
       "    }\n",
       "\n",
       "    .dataframe thead th {\n",
       "        text-align: right;\n",
       "    }\n",
       "</style>\n",
       "<table border=\"1\" class=\"dataframe\">\n",
       "  <thead>\n",
       "    <tr style=\"text-align: right;\">\n",
       "      <th></th>\n",
       "      <th>pc_0</th>\n",
       "      <th>pc_1</th>\n",
       "      <th>pc_2</th>\n",
       "      <th>pc_3</th>\n",
       "      <th>pc_4</th>\n",
       "      <th>pc_5</th>\n",
       "      <th>pc_6</th>\n",
       "    </tr>\n",
       "  </thead>\n",
       "  <tbody>\n",
       "    <tr>\n",
       "      <th>0</th>\n",
       "      <td>0</td>\n",
       "      <td>1</td>\n",
       "      <td>0</td>\n",
       "      <td>0</td>\n",
       "      <td>0</td>\n",
       "      <td>0</td>\n",
       "      <td>0</td>\n",
       "    </tr>\n",
       "    <tr>\n",
       "      <th>1</th>\n",
       "      <td>0</td>\n",
       "      <td>1</td>\n",
       "      <td>0</td>\n",
       "      <td>0</td>\n",
       "      <td>0</td>\n",
       "      <td>0</td>\n",
       "      <td>0</td>\n",
       "    </tr>\n",
       "    <tr>\n",
       "      <th>2</th>\n",
       "      <td>0</td>\n",
       "      <td>1</td>\n",
       "      <td>0</td>\n",
       "      <td>0</td>\n",
       "      <td>0</td>\n",
       "      <td>0</td>\n",
       "      <td>0</td>\n",
       "    </tr>\n",
       "    <tr>\n",
       "      <th>3</th>\n",
       "      <td>0</td>\n",
       "      <td>1</td>\n",
       "      <td>0</td>\n",
       "      <td>0</td>\n",
       "      <td>0</td>\n",
       "      <td>0</td>\n",
       "      <td>0</td>\n",
       "    </tr>\n",
       "    <tr>\n",
       "      <th>4</th>\n",
       "      <td>0</td>\n",
       "      <td>1</td>\n",
       "      <td>0</td>\n",
       "      <td>0</td>\n",
       "      <td>0</td>\n",
       "      <td>0</td>\n",
       "      <td>0</td>\n",
       "    </tr>\n",
       "  </tbody>\n",
       "</table>\n",
       "</div>"
      ],
      "text/plain": [
       "   pc_0  pc_1  pc_2  pc_3  pc_4  pc_5  pc_6\n",
       "0     0     1     0     0     0     0     0\n",
       "1     0     1     0     0     0     0     0\n",
       "2     0     1     0     0     0     0     0\n",
       "3     0     1     0     0     0     0     0\n",
       "4     0     1     0     0     0     0     0"
      ]
     },
     "execution_count": 48,
     "metadata": {},
     "output_type": "execute_result"
    }
   ],
   "source": [
    "passenger_count_train.head()"
   ]
  },
  {
   "cell_type": "code",
   "execution_count": 49,
   "metadata": {},
   "outputs": [],
   "source": [
    "passenger_count_test = passenger_count_test.drop('pc_9', axis = 1)"
   ]
  },
  {
   "cell_type": "code",
   "execution_count": 50,
   "metadata": {},
   "outputs": [
    {
     "data": {
      "text/plain": [
       "((1437168, 7), (625134, 7))"
      ]
     },
     "execution_count": 50,
     "metadata": {},
     "output_type": "execute_result"
    }
   ],
   "source": [
    "passenger_count_train.shape,passenger_count_test.shape"
   ]
  },
  {
   "cell_type": "code",
   "execution_count": 51,
   "metadata": {},
   "outputs": [],
   "source": [
    "train = train.drop(['id','vendor_id','passenger_count','store_and_fwd_flag','Month','DayofMonth','Hour','dayofweek',\n",
    "                   'pickup_longitude','pickup_latitude','dropoff_longitude','dropoff_latitude'],axis = 1)\n",
    "Test_id = test['id']\n",
    "test = test.drop(['id','vendor_id','passenger_count','store_and_fwd_flag','Month','DayofMonth','Hour','dayofweek',\n",
    "                   'pickup_longitude','pickup_latitude','dropoff_longitude','dropoff_latitude'], axis = 1)\n",
    "\n",
    "train = train.drop(['dropoff_datetime','avg_speed_h','avg_speed_m','pickup_lat_bin','pickup_long_bin','trip_duration'], axis = 1)"
   ]
  },
  {
   "cell_type": "code",
   "execution_count": 52,
   "metadata": {},
   "outputs": [
    {
     "data": {
      "text/plain": [
       "((1437168, 11), (625134, 10))"
      ]
     },
     "execution_count": 52,
     "metadata": {},
     "output_type": "execute_result"
    }
   ],
   "source": [
    "train.shape,test.shape"
   ]
  },
  {
   "cell_type": "code",
   "execution_count": 53,
   "metadata": {},
   "outputs": [
    {
     "data": {
      "text/html": [
       "<div>\n",
       "<style scoped>\n",
       "    .dataframe tbody tr th:only-of-type {\n",
       "        vertical-align: middle;\n",
       "    }\n",
       "\n",
       "    .dataframe tbody tr th {\n",
       "        vertical-align: top;\n",
       "    }\n",
       "\n",
       "    .dataframe thead th {\n",
       "        text-align: right;\n",
       "    }\n",
       "</style>\n",
       "<table border=\"1\" class=\"dataframe\">\n",
       "  <thead>\n",
       "    <tr style=\"text-align: right;\">\n",
       "      <th></th>\n",
       "      <th>pickup_datetime</th>\n",
       "      <th>pickup_date</th>\n",
       "      <th>log_trip_duration</th>\n",
       "      <th>distance_haversine</th>\n",
       "      <th>distance_dummy_manhattan</th>\n",
       "      <th>direction</th>\n",
       "      <th>pickup_cluster</th>\n",
       "      <th>dropoff_cluster</th>\n",
       "      <th>total_distance</th>\n",
       "      <th>total_travel_time</th>\n",
       "      <th>number_of_steps</th>\n",
       "    </tr>\n",
       "  </thead>\n",
       "  <tbody>\n",
       "    <tr>\n",
       "      <th>0</th>\n",
       "      <td>2016-03-14 17:24:55</td>\n",
       "      <td>2016-03-14</td>\n",
       "      <td>6.122</td>\n",
       "      <td>1.499</td>\n",
       "      <td>1.735</td>\n",
       "      <td>99.970</td>\n",
       "      <td>93</td>\n",
       "      <td>81</td>\n",
       "      <td>2009.100</td>\n",
       "      <td>164.900</td>\n",
       "      <td>5.000</td>\n",
       "    </tr>\n",
       "    <tr>\n",
       "      <th>1</th>\n",
       "      <td>2016-06-12 00:43:35</td>\n",
       "      <td>2016-06-12</td>\n",
       "      <td>6.498</td>\n",
       "      <td>1.806</td>\n",
       "      <td>2.431</td>\n",
       "      <td>-117.154</td>\n",
       "      <td>75</td>\n",
       "      <td>16</td>\n",
       "      <td>2513.200</td>\n",
       "      <td>332.000</td>\n",
       "      <td>6.000</td>\n",
       "    </tr>\n",
       "    <tr>\n",
       "      <th>2</th>\n",
       "      <td>2016-01-19 11:35:24</td>\n",
       "      <td>2016-01-19</td>\n",
       "      <td>7.662</td>\n",
       "      <td>6.385</td>\n",
       "      <td>8.204</td>\n",
       "      <td>-159.680</td>\n",
       "      <td>8</td>\n",
       "      <td>12</td>\n",
       "      <td>11060.800</td>\n",
       "      <td>767.600</td>\n",
       "      <td>16.000</td>\n",
       "    </tr>\n",
       "    <tr>\n",
       "      <th>3</th>\n",
       "      <td>2016-04-06 19:32:31</td>\n",
       "      <td>2016-04-06</td>\n",
       "      <td>6.064</td>\n",
       "      <td>1.485</td>\n",
       "      <td>1.661</td>\n",
       "      <td>-172.738</td>\n",
       "      <td>95</td>\n",
       "      <td>67</td>\n",
       "      <td>1779.400</td>\n",
       "      <td>235.800</td>\n",
       "      <td>4.000</td>\n",
       "    </tr>\n",
       "    <tr>\n",
       "      <th>4</th>\n",
       "      <td>2016-03-26 13:30:55</td>\n",
       "      <td>2016-03-26</td>\n",
       "      <td>6.078</td>\n",
       "      <td>1.189</td>\n",
       "      <td>1.199</td>\n",
       "      <td>179.474</td>\n",
       "      <td>21</td>\n",
       "      <td>89</td>\n",
       "      <td>1614.900</td>\n",
       "      <td>140.100</td>\n",
       "      <td>5.000</td>\n",
       "    </tr>\n",
       "  </tbody>\n",
       "</table>\n",
       "</div>"
      ],
      "text/plain": [
       "      pickup_datetime pickup_date  log_trip_duration  distance_haversine  \\\n",
       "0 2016-03-14 17:24:55  2016-03-14              6.122               1.499   \n",
       "1 2016-06-12 00:43:35  2016-06-12              6.498               1.806   \n",
       "2 2016-01-19 11:35:24  2016-01-19              7.662               6.385   \n",
       "3 2016-04-06 19:32:31  2016-04-06              6.064               1.485   \n",
       "4 2016-03-26 13:30:55  2016-03-26              6.078               1.189   \n",
       "\n",
       "   distance_dummy_manhattan  direction  pickup_cluster  dropoff_cluster  \\\n",
       "0                     1.735     99.970              93               81   \n",
       "1                     2.431   -117.154              75               16   \n",
       "2                     8.204   -159.680               8               12   \n",
       "3                     1.661   -172.738              95               67   \n",
       "4                     1.199    179.474              21               89   \n",
       "\n",
       "   total_distance  total_travel_time  number_of_steps  \n",
       "0        2009.100            164.900            5.000  \n",
       "1        2513.200            332.000            6.000  \n",
       "2       11060.800            767.600           16.000  \n",
       "3        1779.400            235.800            4.000  \n",
       "4        1614.900            140.100            5.000  "
      ]
     },
     "execution_count": 53,
     "metadata": {},
     "output_type": "execute_result"
    }
   ],
   "source": [
    "train.head()"
   ]
  },
  {
   "cell_type": "code",
   "execution_count": 54,
   "metadata": {
    "scrolled": false
   },
   "outputs": [],
   "source": [
    "#train = train.drop(['dropoff_date'], axis = 1)"
   ]
  },
  {
   "cell_type": "code",
   "execution_count": 55,
   "metadata": {},
   "outputs": [
    {
     "data": {
      "text/plain": [
       "((1437168, 11), (625134, 10))"
      ]
     },
     "execution_count": 55,
     "metadata": {},
     "output_type": "execute_result"
    }
   ],
   "source": [
    "train.shape,test.shape"
   ]
  },
  {
   "cell_type": "code",
   "execution_count": 56,
   "metadata": {},
   "outputs": [],
   "source": [
    "Train_Master = pd.concat([train,\n",
    "                          vendor_train,\n",
    "                          passenger_count_train,\n",
    "                          store_and_fwd_flag_train,\n",
    "                          cluster_pickup_train,\n",
    "                          cluster_dropoff_train,\n",
    "                         month_train,\n",
    "                         dom_train,\n",
    "                          hour_train,\n",
    "                          dow_train\n",
    "                         ], axis=1)"
   ]
  },
  {
   "cell_type": "code",
   "execution_count": 57,
   "metadata": {},
   "outputs": [],
   "source": [
    "Test_master = pd.concat([test, \n",
    "                         vendor_test,\n",
    "                         passenger_count_test,\n",
    "                         store_and_fwd_flag_test,\n",
    "                         cluster_pickup_test,\n",
    "                         cluster_dropoff_test,\n",
    "                         month_test,\n",
    "                         dom_test,\n",
    "                          hour_test,\n",
    "                          dow_test], axis=1)"
   ]
  },
  {
   "cell_type": "code",
   "execution_count": 58,
   "metadata": {},
   "outputs": [
    {
     "data": {
      "text/plain": [
       "((1437168, 290), (625134, 289))"
      ]
     },
     "execution_count": 58,
     "metadata": {},
     "output_type": "execute_result"
    }
   ],
   "source": [
    "Train_Master.shape,Test_master.shape"
   ]
  },
  {
   "cell_type": "code",
   "execution_count": 59,
   "metadata": {},
   "outputs": [],
   "source": [
    "Train_Master = Train_Master.drop(['pickup_datetime','pickup_date'],axis = 1)\n",
    "Test_master = Test_master.drop(['pickup_datetime','pickup_date'],axis = 1)"
   ]
  },
  {
   "cell_type": "code",
   "execution_count": 60,
   "metadata": {},
   "outputs": [
    {
     "data": {
      "text/plain": [
       "((1437168, 288), (625134, 287))"
      ]
     },
     "execution_count": 60,
     "metadata": {},
     "output_type": "execute_result"
    }
   ],
   "source": [
    "Train_Master.shape,Test_master.shape"
   ]
  },
  {
   "cell_type": "code",
   "execution_count": 61,
   "metadata": {},
   "outputs": [],
   "source": [
    "Train, Test = train_test_split(Train_Master[0:100000], test_size = 0.2)"
   ]
  },
  {
   "cell_type": "code",
   "execution_count": 62,
   "metadata": {},
   "outputs": [],
   "source": [
    "X_train = Train.drop(['log_trip_duration'], axis=1)\n",
    "Y_train = Train[\"log_trip_duration\"]\n",
    "X_test = Test.drop(['log_trip_duration'], axis=1)\n",
    "Y_test = Test[\"log_trip_duration\"]\n",
    "\n",
    "Y_test = Y_test.reset_index().drop('index',axis = 1)\n",
    "Y_train = Y_train.reset_index().drop('index',axis = 1)"
   ]
  },
  {
   "cell_type": "code",
   "execution_count": 63,
   "metadata": {},
   "outputs": [],
   "source": [
    "dtrain = xgb.DMatrix(X_train, label=Y_train)\n",
    "dvalid = xgb.DMatrix(X_test, label=Y_test)\n",
    "dtest = xgb.DMatrix(Test_master)\n",
    "watchlist = [(dtrain, 'train'), (dvalid, 'valid')]"
   ]
  },
  {
   "cell_type": "code",
   "execution_count": 64,
   "metadata": {},
   "outputs": [
    {
     "name": "stdout",
     "output_type": "stream",
     "text": [
      "[0]\ttrain-rmse:5.40139\tvalid-rmse:5.40307\n",
      "Multiple eval metrics have been passed: 'valid-rmse' will be used for early stopping.\n",
      "\n",
      "Will train until valid-rmse hasn't improved in 10 rounds.\n",
      "[1]\ttrain-rmse:4.86524\tvalid-rmse:4.86658\n",
      "[2]\ttrain-rmse:4.38305\tvalid-rmse:4.38417\n",
      "[3]\ttrain-rmse:3.94954\tvalid-rmse:3.95029\n",
      "[4]\ttrain-rmse:3.55979\tvalid-rmse:3.56038\n",
      "[5]\ttrain-rmse:3.2094\tvalid-rmse:3.20986\n",
      "[6]\ttrain-rmse:2.89466\tvalid-rmse:2.8949\n",
      "[7]\ttrain-rmse:2.61206\tvalid-rmse:2.61224\n",
      "[8]\ttrain-rmse:2.35827\tvalid-rmse:2.35839\n",
      "[9]\ttrain-rmse:2.13059\tvalid-rmse:2.13062\n",
      "[10]\ttrain-rmse:1.92641\tvalid-rmse:1.92645\n",
      "[11]\ttrain-rmse:1.74366\tvalid-rmse:1.74373\n",
      "[12]\ttrain-rmse:1.57998\tvalid-rmse:1.58024\n",
      "[13]\ttrain-rmse:1.43377\tvalid-rmse:1.43425\n",
      "[14]\ttrain-rmse:1.30309\tvalid-rmse:1.30379\n",
      "[15]\ttrain-rmse:1.18659\tvalid-rmse:1.18758\n",
      "[16]\ttrain-rmse:1.08309\tvalid-rmse:1.08437\n",
      "[17]\ttrain-rmse:0.991229\tvalid-rmse:0.992781\n",
      "[18]\ttrain-rmse:0.909912\tvalid-rmse:0.911815\n",
      "[19]\ttrain-rmse:0.838081\tvalid-rmse:0.840326\n",
      "[20]\ttrain-rmse:0.774978\tvalid-rmse:0.777568\n",
      "[21]\ttrain-rmse:0.71946\tvalid-rmse:0.722369\n",
      "[22]\ttrain-rmse:0.671207\tvalid-rmse:0.67458\n",
      "[23]\ttrain-rmse:0.629207\tvalid-rmse:0.632966\n",
      "[24]\ttrain-rmse:0.592918\tvalid-rmse:0.596972\n",
      "[25]\ttrain-rmse:0.561301\tvalid-rmse:0.56576\n",
      "[26]\ttrain-rmse:0.534466\tvalid-rmse:0.539237\n",
      "[27]\ttrain-rmse:0.51135\tvalid-rmse:0.516608\n",
      "[28]\ttrain-rmse:0.491681\tvalid-rmse:0.497322\n",
      "[29]\ttrain-rmse:0.474823\tvalid-rmse:0.480784\n",
      "[30]\ttrain-rmse:0.460818\tvalid-rmse:0.467074\n",
      "[31]\ttrain-rmse:0.448678\tvalid-rmse:0.455291\n",
      "[32]\ttrain-rmse:0.438678\tvalid-rmse:0.445523\n",
      "[33]\ttrain-rmse:0.430285\tvalid-rmse:0.437411\n",
      "[34]\ttrain-rmse:0.423104\tvalid-rmse:0.430515\n",
      "[35]\ttrain-rmse:0.416741\tvalid-rmse:0.424565\n",
      "[36]\ttrain-rmse:0.411606\tvalid-rmse:0.419718\n",
      "[37]\ttrain-rmse:0.407327\tvalid-rmse:0.415669\n",
      "[38]\ttrain-rmse:0.403605\tvalid-rmse:0.412278\n",
      "[39]\ttrain-rmse:0.399902\tvalid-rmse:0.408864\n",
      "[40]\ttrain-rmse:0.397281\tvalid-rmse:0.406393\n",
      "[41]\ttrain-rmse:0.394813\tvalid-rmse:0.404155\n",
      "[42]\ttrain-rmse:0.392837\tvalid-rmse:0.40229\n",
      "[43]\ttrain-rmse:0.390742\tvalid-rmse:0.400389\n",
      "[44]\ttrain-rmse:0.389195\tvalid-rmse:0.398991\n",
      "[45]\ttrain-rmse:0.387659\tvalid-rmse:0.397635\n",
      "[46]\ttrain-rmse:0.386382\tvalid-rmse:0.396558\n",
      "[47]\ttrain-rmse:0.385288\tvalid-rmse:0.395591\n",
      "[48]\ttrain-rmse:0.383908\tvalid-rmse:0.394507\n",
      "[49]\ttrain-rmse:0.382763\tvalid-rmse:0.393644\n",
      "Modeling iteration {'min_child_weight': 20, 'eta': 0.1, 'colsample_bytree': 0.9, 'max_depth': 6, 'subsample': 0.9, 'lambda': 1.0, 'nthread': -1, 'booster': 'gbtree', 'silent': 1, 'eval_metric': 'rmse', 'objective': 'reg:linear'}, RMSLE 0.39364\n",
      "[0]\ttrain-rmse:5.40139\tvalid-rmse:5.40307\n",
      "Multiple eval metrics have been passed: 'valid-rmse' will be used for early stopping.\n",
      "\n",
      "Will train until valid-rmse hasn't improved in 10 rounds.\n",
      "[1]\ttrain-rmse:4.86524\tvalid-rmse:4.86659\n",
      "[2]\ttrain-rmse:4.38305\tvalid-rmse:4.38417\n",
      "[3]\ttrain-rmse:3.94955\tvalid-rmse:3.95031\n",
      "[4]\ttrain-rmse:3.5598\tvalid-rmse:3.56038\n",
      "[5]\ttrain-rmse:3.20941\tvalid-rmse:3.20986\n",
      "[6]\ttrain-rmse:2.89467\tvalid-rmse:2.89484\n",
      "[7]\ttrain-rmse:2.61207\tvalid-rmse:2.61219\n",
      "[8]\ttrain-rmse:2.35828\tvalid-rmse:2.35837\n",
      "[9]\ttrain-rmse:2.13061\tvalid-rmse:2.13063\n",
      "[10]\ttrain-rmse:1.9265\tvalid-rmse:1.92649\n",
      "[11]\ttrain-rmse:1.74369\tvalid-rmse:1.7438\n",
      "[12]\ttrain-rmse:1.58004\tvalid-rmse:1.58027\n",
      "[13]\ttrain-rmse:1.43382\tvalid-rmse:1.43428\n",
      "[14]\ttrain-rmse:1.3032\tvalid-rmse:1.30377\n",
      "[15]\ttrain-rmse:1.18688\tvalid-rmse:1.18761\n",
      "[16]\ttrain-rmse:1.08339\tvalid-rmse:1.08431\n",
      "[17]\ttrain-rmse:0.991497\tvalid-rmse:0.992684\n",
      "[18]\ttrain-rmse:0.910264\tvalid-rmse:0.911738\n",
      "[19]\ttrain-rmse:0.838305\tvalid-rmse:0.840119\n",
      "[20]\ttrain-rmse:0.775212\tvalid-rmse:0.77721\n",
      "[21]\ttrain-rmse:0.719908\tvalid-rmse:0.722193\n",
      "[22]\ttrain-rmse:0.671718\tvalid-rmse:0.674334\n",
      "[23]\ttrain-rmse:0.629386\tvalid-rmse:0.632344\n",
      "[24]\ttrain-rmse:0.592995\tvalid-rmse:0.596431\n",
      "[25]\ttrain-rmse:0.56175\tvalid-rmse:0.565512\n",
      "[26]\ttrain-rmse:0.534963\tvalid-rmse:0.538968\n",
      "[27]\ttrain-rmse:0.5121\tvalid-rmse:0.516381\n",
      "[28]\ttrain-rmse:0.492449\tvalid-rmse:0.497212\n",
      "[29]\ttrain-rmse:0.475456\tvalid-rmse:0.48061\n",
      "[30]\ttrain-rmse:0.461332\tvalid-rmse:0.466782\n",
      "[31]\ttrain-rmse:0.449583\tvalid-rmse:0.45537\n",
      "[32]\ttrain-rmse:0.439535\tvalid-rmse:0.445677\n",
      "[33]\ttrain-rmse:0.431103\tvalid-rmse:0.437608\n",
      "[34]\ttrain-rmse:0.42346\tvalid-rmse:0.430389\n",
      "[35]\ttrain-rmse:0.417512\tvalid-rmse:0.424721\n",
      "[36]\ttrain-rmse:0.412088\tvalid-rmse:0.41976\n",
      "[37]\ttrain-rmse:0.407803\tvalid-rmse:0.415777\n",
      "[38]\ttrain-rmse:0.404161\tvalid-rmse:0.412268\n",
      "[39]\ttrain-rmse:0.400686\tvalid-rmse:0.409057\n",
      "[40]\ttrain-rmse:0.397765\tvalid-rmse:0.406391\n",
      "[41]\ttrain-rmse:0.395305\tvalid-rmse:0.40403\n",
      "[42]\ttrain-rmse:0.393321\tvalid-rmse:0.402254\n",
      "[43]\ttrain-rmse:0.391396\tvalid-rmse:0.400498\n",
      "[44]\ttrain-rmse:0.389859\tvalid-rmse:0.398979\n",
      "[45]\ttrain-rmse:0.388477\tvalid-rmse:0.397765\n",
      "[46]\ttrain-rmse:0.387254\tvalid-rmse:0.396655\n",
      "[47]\ttrain-rmse:0.385803\tvalid-rmse:0.395348\n",
      "[48]\ttrain-rmse:0.384552\tvalid-rmse:0.394359\n",
      "[49]\ttrain-rmse:0.38363\tvalid-rmse:0.393531\n",
      "Modeling iteration {'min_child_weight': 25, 'eta': 0.1, 'colsample_bytree': 0.9, 'max_depth': 6, 'subsample': 0.9, 'lambda': 1.0, 'nthread': -1, 'booster': 'gbtree', 'silent': 1, 'eval_metric': 'rmse', 'objective': 'reg:linear'}, RMSLE 0.39353\n",
      "[0]\ttrain-rmse:5.40139\tvalid-rmse:5.40306\n",
      "Multiple eval metrics have been passed: 'valid-rmse' will be used for early stopping.\n",
      "\n",
      "Will train until valid-rmse hasn't improved in 10 rounds.\n",
      "[1]\ttrain-rmse:4.86524\tvalid-rmse:4.8666\n",
      "[2]\ttrain-rmse:4.38305\tvalid-rmse:4.38418\n",
      "[3]\ttrain-rmse:3.94955\tvalid-rmse:3.95035\n",
      "[4]\ttrain-rmse:3.5598\tvalid-rmse:3.56042\n",
      "[5]\ttrain-rmse:3.20941\tvalid-rmse:3.2099\n",
      "[6]\ttrain-rmse:2.89468\tvalid-rmse:2.89489\n",
      "[7]\ttrain-rmse:2.61208\tvalid-rmse:2.61227\n",
      "[8]\ttrain-rmse:2.3583\tvalid-rmse:2.35843\n",
      "[9]\ttrain-rmse:2.13063\tvalid-rmse:2.13073\n",
      "[10]\ttrain-rmse:1.92654\tvalid-rmse:1.9266\n",
      "[11]\ttrain-rmse:1.74371\tvalid-rmse:1.7438\n",
      "[12]\ttrain-rmse:1.58009\tvalid-rmse:1.58033\n",
      "[13]\ttrain-rmse:1.43386\tvalid-rmse:1.43425\n",
      "[14]\ttrain-rmse:1.30326\tvalid-rmse:1.30376\n",
      "[15]\ttrain-rmse:1.18692\tvalid-rmse:1.18762\n",
      "[16]\ttrain-rmse:1.08348\tvalid-rmse:1.08441\n",
      "[17]\ttrain-rmse:0.991638\tvalid-rmse:0.992824\n",
      "[18]\ttrain-rmse:0.910439\tvalid-rmse:0.911926\n",
      "[19]\ttrain-rmse:0.838471\tvalid-rmse:0.840205\n",
      "[20]\ttrain-rmse:0.775368\tvalid-rmse:0.777363\n",
      "[21]\ttrain-rmse:0.719837\tvalid-rmse:0.722098\n",
      "[22]\ttrain-rmse:0.6716\tvalid-rmse:0.674204\n",
      "[23]\ttrain-rmse:0.629625\tvalid-rmse:0.632502\n",
      "[24]\ttrain-rmse:0.592973\tvalid-rmse:0.596305\n",
      "[25]\ttrain-rmse:0.561556\tvalid-rmse:0.565318\n",
      "[26]\ttrain-rmse:0.534776\tvalid-rmse:0.538777\n",
      "[27]\ttrain-rmse:0.511715\tvalid-rmse:0.516109\n",
      "[28]\ttrain-rmse:0.491949\tvalid-rmse:0.496734\n",
      "[29]\ttrain-rmse:0.475255\tvalid-rmse:0.4803\n",
      "[30]\ttrain-rmse:0.461359\tvalid-rmse:0.466932\n",
      "[31]\ttrain-rmse:0.449526\tvalid-rmse:0.455463\n",
      "[32]\ttrain-rmse:0.439624\tvalid-rmse:0.445838\n",
      "[33]\ttrain-rmse:0.431202\tvalid-rmse:0.437704\n",
      "[34]\ttrain-rmse:0.423822\tvalid-rmse:0.430729\n",
      "[35]\ttrain-rmse:0.4174\tvalid-rmse:0.424739\n",
      "[36]\ttrain-rmse:0.412207\tvalid-rmse:0.419949\n",
      "[37]\ttrain-rmse:0.407889\tvalid-rmse:0.415933\n",
      "[38]\ttrain-rmse:0.404363\tvalid-rmse:0.412506\n",
      "[39]\ttrain-rmse:0.400712\tvalid-rmse:0.409076\n",
      "[40]\ttrain-rmse:0.39767\tvalid-rmse:0.406302\n",
      "[41]\ttrain-rmse:0.395288\tvalid-rmse:0.404186\n",
      "[42]\ttrain-rmse:0.393085\tvalid-rmse:0.402131\n",
      "[43]\ttrain-rmse:0.391001\tvalid-rmse:0.400402\n",
      "[44]\ttrain-rmse:0.389381\tvalid-rmse:0.398809\n",
      "[45]\ttrain-rmse:0.387934\tvalid-rmse:0.397593\n",
      "[46]\ttrain-rmse:0.386461\tvalid-rmse:0.396357\n",
      "[47]\ttrain-rmse:0.385077\tvalid-rmse:0.395126\n",
      "[48]\ttrain-rmse:0.383811\tvalid-rmse:0.39406\n",
      "[49]\ttrain-rmse:0.382905\tvalid-rmse:0.393241\n",
      "Modeling iteration {'min_child_weight': 30, 'eta': 0.1, 'colsample_bytree': 0.9, 'max_depth': 6, 'subsample': 0.9, 'lambda': 1.0, 'nthread': -1, 'booster': 'gbtree', 'silent': 1, 'eval_metric': 'rmse', 'objective': 'reg:linear'}, RMSLE 0.39324\n",
      "[0]\ttrain-rmse:4.21089\tvalid-rmse:4.21193\n",
      "Multiple eval metrics have been passed: 'valid-rmse' will be used for early stopping.\n",
      "\n",
      "Will train until valid-rmse hasn't improved in 10 rounds.\n",
      "[1]\ttrain-rmse:2.96451\tvalid-rmse:2.96485\n",
      "[2]\ttrain-rmse:2.09826\tvalid-rmse:2.09812\n",
      "[3]\ttrain-rmse:1.50005\tvalid-rmse:1.50014\n",
      "[4]\ttrain-rmse:1.09247\tvalid-rmse:1.09311\n",
      "[5]\ttrain-rmse:0.820344\tvalid-rmse:0.821776\n",
      "[6]\ttrain-rmse:0.645395\tvalid-rmse:0.64772\n",
      "[7]\ttrain-rmse:0.536326\tvalid-rmse:0.539832\n"
     ]
    },
    {
     "name": "stdout",
     "output_type": "stream",
     "text": [
      "[8]\ttrain-rmse:0.472408\tvalid-rmse:0.476916\n",
      "[9]\ttrain-rmse:0.436574\tvalid-rmse:0.441656\n",
      "[10]\ttrain-rmse:0.416537\tvalid-rmse:0.422316\n",
      "[11]\ttrain-rmse:0.404197\tvalid-rmse:0.410924\n",
      "[12]\ttrain-rmse:0.397264\tvalid-rmse:0.404873\n",
      "[13]\ttrain-rmse:0.390987\tvalid-rmse:0.399276\n",
      "[14]\ttrain-rmse:0.387827\tvalid-rmse:0.396367\n",
      "[15]\ttrain-rmse:0.385025\tvalid-rmse:0.394488\n",
      "[16]\ttrain-rmse:0.382305\tvalid-rmse:0.392394\n",
      "[17]\ttrain-rmse:0.379292\tvalid-rmse:0.390276\n",
      "[18]\ttrain-rmse:0.377432\tvalid-rmse:0.388613\n",
      "[19]\ttrain-rmse:0.375883\tvalid-rmse:0.387733\n",
      "[20]\ttrain-rmse:0.374253\tvalid-rmse:0.386417\n",
      "[21]\ttrain-rmse:0.372256\tvalid-rmse:0.38529\n",
      "[22]\ttrain-rmse:0.371293\tvalid-rmse:0.384506\n",
      "[23]\ttrain-rmse:0.36964\tvalid-rmse:0.383551\n",
      "[24]\ttrain-rmse:0.368303\tvalid-rmse:0.382563\n",
      "[25]\ttrain-rmse:0.367216\tvalid-rmse:0.381894\n",
      "[26]\ttrain-rmse:0.366174\tvalid-rmse:0.381338\n",
      "[27]\ttrain-rmse:0.364755\tvalid-rmse:0.380678\n",
      "[28]\ttrain-rmse:0.36321\tvalid-rmse:0.379543\n",
      "[29]\ttrain-rmse:0.362528\tvalid-rmse:0.379139\n",
      "[30]\ttrain-rmse:0.361363\tvalid-rmse:0.378147\n",
      "[31]\ttrain-rmse:0.3606\tvalid-rmse:0.377655\n",
      "[32]\ttrain-rmse:0.359629\tvalid-rmse:0.377054\n",
      "[33]\ttrain-rmse:0.358644\tvalid-rmse:0.376513\n",
      "[34]\ttrain-rmse:0.35797\tvalid-rmse:0.376089\n",
      "[35]\ttrain-rmse:0.35713\tvalid-rmse:0.375623\n",
      "[36]\ttrain-rmse:0.356474\tvalid-rmse:0.37579\n",
      "[37]\ttrain-rmse:0.355662\tvalid-rmse:0.37541\n",
      "[38]\ttrain-rmse:0.354894\tvalid-rmse:0.375006\n",
      "[39]\ttrain-rmse:0.354184\tvalid-rmse:0.374503\n",
      "[40]\ttrain-rmse:0.353483\tvalid-rmse:0.37393\n",
      "[41]\ttrain-rmse:0.35304\tvalid-rmse:0.373573\n",
      "[42]\ttrain-rmse:0.35201\tvalid-rmse:0.374152\n",
      "[43]\ttrain-rmse:0.351296\tvalid-rmse:0.374413\n",
      "[44]\ttrain-rmse:0.350611\tvalid-rmse:0.373947\n",
      "[45]\ttrain-rmse:0.349905\tvalid-rmse:0.373713\n",
      "[46]\ttrain-rmse:0.349458\tvalid-rmse:0.373577\n",
      "[47]\ttrain-rmse:0.348755\tvalid-rmse:0.373777\n",
      "[48]\ttrain-rmse:0.348231\tvalid-rmse:0.373663\n",
      "[49]\ttrain-rmse:0.347883\tvalid-rmse:0.37362\n",
      "Modeling iteration {'min_child_weight': 20, 'eta': 0.3, 'colsample_bytree': 0.9, 'max_depth': 6, 'subsample': 0.9, 'lambda': 1.0, 'nthread': -1, 'booster': 'gbtree', 'silent': 1, 'eval_metric': 'rmse', 'objective': 'reg:linear'}, RMSLE 0.37357\n",
      "[0]\ttrain-rmse:4.21089\tvalid-rmse:4.21194\n",
      "Multiple eval metrics have been passed: 'valid-rmse' will be used for early stopping.\n",
      "\n",
      "Will train until valid-rmse hasn't improved in 10 rounds.\n",
      "[1]\ttrain-rmse:2.96455\tvalid-rmse:2.96486\n",
      "[2]\ttrain-rmse:2.09828\tvalid-rmse:2.0982\n",
      "[3]\ttrain-rmse:1.50009\tvalid-rmse:1.50021\n",
      "[4]\ttrain-rmse:1.09253\tvalid-rmse:1.09311\n",
      "[5]\ttrain-rmse:0.820401\tvalid-rmse:0.821746\n",
      "[6]\ttrain-rmse:0.645597\tvalid-rmse:0.647659\n",
      "[7]\ttrain-rmse:0.536452\tvalid-rmse:0.539806\n",
      "[8]\ttrain-rmse:0.47275\tvalid-rmse:0.477544\n",
      "[9]\ttrain-rmse:0.436864\tvalid-rmse:0.442752\n",
      "[10]\ttrain-rmse:0.417156\tvalid-rmse:0.423713\n",
      "[11]\ttrain-rmse:0.405423\tvalid-rmse:0.412889\n",
      "[12]\ttrain-rmse:0.398453\tvalid-rmse:0.406687\n",
      "[13]\ttrain-rmse:0.392558\tvalid-rmse:0.401413\n",
      "[14]\ttrain-rmse:0.389346\tvalid-rmse:0.398587\n",
      "[15]\ttrain-rmse:0.386784\tvalid-rmse:0.396472\n",
      "[16]\ttrain-rmse:0.384845\tvalid-rmse:0.394694\n",
      "[17]\ttrain-rmse:0.382199\tvalid-rmse:0.392562\n",
      "[18]\ttrain-rmse:0.380228\tvalid-rmse:0.391501\n",
      "[19]\ttrain-rmse:0.378587\tvalid-rmse:0.390232\n",
      "[20]\ttrain-rmse:0.376173\tvalid-rmse:0.388519\n",
      "[21]\ttrain-rmse:0.374475\tvalid-rmse:0.387377\n",
      "[22]\ttrain-rmse:0.37304\tvalid-rmse:0.386368\n",
      "[23]\ttrain-rmse:0.37131\tvalid-rmse:0.385217\n",
      "[24]\ttrain-rmse:0.370283\tvalid-rmse:0.384533\n",
      "[25]\ttrain-rmse:0.369342\tvalid-rmse:0.383914\n",
      "[26]\ttrain-rmse:0.368342\tvalid-rmse:0.383458\n",
      "[27]\ttrain-rmse:0.367271\tvalid-rmse:0.383205\n",
      "[28]\ttrain-rmse:0.366096\tvalid-rmse:0.382438\n",
      "[29]\ttrain-rmse:0.364948\tvalid-rmse:0.381808\n",
      "[30]\ttrain-rmse:0.363455\tvalid-rmse:0.380777\n",
      "[31]\ttrain-rmse:0.362512\tvalid-rmse:0.380284\n",
      "[32]\ttrain-rmse:0.361608\tvalid-rmse:0.379659\n",
      "[33]\ttrain-rmse:0.360668\tvalid-rmse:0.379142\n",
      "[34]\ttrain-rmse:0.360026\tvalid-rmse:0.378615\n",
      "[35]\ttrain-rmse:0.358306\tvalid-rmse:0.377814\n",
      "[36]\ttrain-rmse:0.357544\tvalid-rmse:0.377332\n",
      "[37]\ttrain-rmse:0.356922\tvalid-rmse:0.376997\n",
      "[38]\ttrain-rmse:0.356007\tvalid-rmse:0.376762\n",
      "[39]\ttrain-rmse:0.354837\tvalid-rmse:0.376222\n",
      "[40]\ttrain-rmse:0.353999\tvalid-rmse:0.375671\n",
      "[41]\ttrain-rmse:0.352873\tvalid-rmse:0.375455\n",
      "[42]\ttrain-rmse:0.352366\tvalid-rmse:0.37502\n",
      "[43]\ttrain-rmse:0.351616\tvalid-rmse:0.374587\n",
      "[44]\ttrain-rmse:0.350728\tvalid-rmse:0.374164\n",
      "[45]\ttrain-rmse:0.350146\tvalid-rmse:0.374096\n",
      "[46]\ttrain-rmse:0.349337\tvalid-rmse:0.37372\n",
      "[47]\ttrain-rmse:0.348875\tvalid-rmse:0.373414\n",
      "[48]\ttrain-rmse:0.348395\tvalid-rmse:0.373224\n",
      "[49]\ttrain-rmse:0.347298\tvalid-rmse:0.372914\n",
      "Modeling iteration {'min_child_weight': 25, 'eta': 0.3, 'colsample_bytree': 0.9, 'max_depth': 6, 'subsample': 0.9, 'lambda': 1.0, 'nthread': -1, 'booster': 'gbtree', 'silent': 1, 'eval_metric': 'rmse', 'objective': 'reg:linear'}, RMSLE 0.37291\n",
      "[0]\ttrain-rmse:4.21089\tvalid-rmse:4.21192\n",
      "Multiple eval metrics have been passed: 'valid-rmse' will be used for early stopping.\n",
      "\n",
      "Will train until valid-rmse hasn't improved in 10 rounds.\n",
      "[1]\ttrain-rmse:2.96457\tvalid-rmse:2.96492\n",
      "[2]\ttrain-rmse:2.09835\tvalid-rmse:2.09816\n",
      "[3]\ttrain-rmse:1.50013\tvalid-rmse:1.50026\n",
      "[4]\ttrain-rmse:1.09239\tvalid-rmse:1.09279\n",
      "[5]\ttrain-rmse:0.820356\tvalid-rmse:0.821418\n",
      "[6]\ttrain-rmse:0.645274\tvalid-rmse:0.647114\n",
      "[7]\ttrain-rmse:0.537473\tvalid-rmse:0.540671\n",
      "[8]\ttrain-rmse:0.473189\tvalid-rmse:0.477705\n",
      "[9]\ttrain-rmse:0.437482\tvalid-rmse:0.442693\n",
      "[10]\ttrain-rmse:0.417347\tvalid-rmse:0.423624\n",
      "[11]\ttrain-rmse:0.405857\tvalid-rmse:0.412704\n",
      "[12]\ttrain-rmse:0.3989\tvalid-rmse:0.406947\n",
      "[13]\ttrain-rmse:0.392638\tvalid-rmse:0.401602\n",
      "[14]\ttrain-rmse:0.388292\tvalid-rmse:0.397674\n",
      "[15]\ttrain-rmse:0.38577\tvalid-rmse:0.395683\n",
      "[16]\ttrain-rmse:0.383724\tvalid-rmse:0.39399\n",
      "[17]\ttrain-rmse:0.381177\tvalid-rmse:0.392041\n",
      "[18]\ttrain-rmse:0.37914\tvalid-rmse:0.39128\n",
      "[19]\ttrain-rmse:0.376591\tvalid-rmse:0.389239\n",
      "[20]\ttrain-rmse:0.375231\tvalid-rmse:0.38818\n",
      "[21]\ttrain-rmse:0.374098\tvalid-rmse:0.387207\n",
      "[22]\ttrain-rmse:0.372543\tvalid-rmse:0.386083\n",
      "[23]\ttrain-rmse:0.371197\tvalid-rmse:0.385147\n",
      "[24]\ttrain-rmse:0.370112\tvalid-rmse:0.384508\n",
      "[25]\ttrain-rmse:0.368805\tvalid-rmse:0.383956\n",
      "[26]\ttrain-rmse:0.367256\tvalid-rmse:0.383903\n",
      "[27]\ttrain-rmse:0.366155\tvalid-rmse:0.382929\n",
      "[28]\ttrain-rmse:0.364923\tvalid-rmse:0.381974\n",
      "[29]\ttrain-rmse:0.363664\tvalid-rmse:0.381631\n",
      "[30]\ttrain-rmse:0.363016\tvalid-rmse:0.381384\n",
      "[31]\ttrain-rmse:0.362003\tvalid-rmse:0.380575\n",
      "[32]\ttrain-rmse:0.361015\tvalid-rmse:0.379741\n",
      "[33]\ttrain-rmse:0.360226\tvalid-rmse:0.379417\n",
      "[34]\ttrain-rmse:0.359397\tvalid-rmse:0.378806\n",
      "[35]\ttrain-rmse:0.358538\tvalid-rmse:0.378593\n",
      "[36]\ttrain-rmse:0.357436\tvalid-rmse:0.377957\n",
      "[37]\ttrain-rmse:0.356642\tvalid-rmse:0.37731\n",
      "[38]\ttrain-rmse:0.35603\tvalid-rmse:0.376991\n",
      "[39]\ttrain-rmse:0.355239\tvalid-rmse:0.376411\n",
      "[40]\ttrain-rmse:0.354517\tvalid-rmse:0.376718\n",
      "[41]\ttrain-rmse:0.353949\tvalid-rmse:0.376333\n",
      "[42]\ttrain-rmse:0.353523\tvalid-rmse:0.376036\n",
      "[43]\ttrain-rmse:0.352969\tvalid-rmse:0.375765\n",
      "[44]\ttrain-rmse:0.352379\tvalid-rmse:0.375348\n",
      "[45]\ttrain-rmse:0.35164\tvalid-rmse:0.374988\n",
      "[46]\ttrain-rmse:0.351096\tvalid-rmse:0.374697\n",
      "[47]\ttrain-rmse:0.350232\tvalid-rmse:0.3746\n",
      "[48]\ttrain-rmse:0.34966\tvalid-rmse:0.374316\n",
      "[49]\ttrain-rmse:0.349247\tvalid-rmse:0.374065\n",
      "Modeling iteration {'min_child_weight': 30, 'eta': 0.3, 'colsample_bytree': 0.9, 'max_depth': 6, 'subsample': 0.9, 'lambda': 1.0, 'nthread': -1, 'booster': 'gbtree', 'silent': 1, 'eval_metric': 'rmse', 'objective': 'reg:linear'}, RMSLE 0.37406\n"
     ]
    }
   ],
   "source": [
    "md = [6]\n",
    "lr = [0.1,0.3]\n",
    "mcw = [20,25,30]\n",
    "for m in md:\n",
    "    for l in lr:\n",
    "        for n in mcw:\n",
    "            t0 = datetime.now()\n",
    "            xgb_pars = {'min_child_weight': n, 'eta': l, 'colsample_bytree': 0.9, \n",
    "                        'max_depth': m,\n",
    "            'subsample': 0.9, 'lambda': 1., 'nthread': -1, 'booster' : 'gbtree', 'silent': 1,\n",
    "            'eval_metric': 'rmse', 'objective': 'reg:linear'}\n",
    "            model = xgb.train(xgb_pars, dtrain, 50, watchlist, early_stopping_rounds=10,\n",
    "                  maximize=False, verbose_eval=1)\n",
    "            print('Modeling iteration %s, RMSLE %.5f' % (xgb_pars, model.best_score))"
   ]
  },
  {
   "cell_type": "code",
   "execution_count": 65,
   "metadata": {},
   "outputs": [
    {
     "data": {
      "text/plain": [
       "<matplotlib.axes._subplots.AxesSubplot at 0x1cca03cdba8>"
      ]
     },
     "execution_count": 65,
     "metadata": {},
     "output_type": "execute_result"
    },
    {
     "data": {
      "image/png": "[encoded data removed]",
      "text/plain": [
       "<Figure size 432x288 with 1 Axes>"
      ]
     },
     "metadata": {},
     "output_type": "display_data"
    }
   ],
   "source": [
    "xgb.plot_importance(model, max_num_features=28, height=0.7)"
   ]
  },
  {
   "cell_type": "code",
   "execution_count": 66,
   "metadata": {},
   "outputs": [],
   "source": [
    "pred = model.predict(dtest)\n",
    "pred = np.exp(pred) - 1"
   ]
  },
  {
   "cell_type": "code",
   "execution_count": 67,
   "metadata": {},
   "outputs": [],
   "source": [
    "submission = pd.concat([Test_id, pd.DataFrame(pred)], axis=1)\n",
    "submission.columns = ['id','trip_duration']\n",
    "submission['trip_duration'] = submission.apply(lambda x : 1 if (x['trip_duration'] <= 0) else x['trip_duration'], axis = 1)\n",
    "submission.to_csv(\"submission_xgboost.csv\", index=False)"
   ]
  },
  {
   "cell_type": "code",
   "execution_count": 68,
   "metadata": {
    "scrolled": false
   },
   "outputs": [],
   "source": [
    "from sklearn.linear_model import Ridge, ElasticNet, Lasso"
   ]
  },
  {
   "cell_type": "code",
   "execution_count": 69,
   "metadata": {
    "scrolled": true
   },
   "outputs": [
    {
     "name": "stdout",
     "output_type": "stream",
     "text": [
      "0.6345008339430758\n"
     ]
    }
   ],
   "source": [
    "model_lr = LinearRegression()\n",
    "model_lr.fit(X_train, Y_train)\n",
    "score_lr = model_lr.score(X_test, Y_test)\n",
    "pre2 = model_lr.predict(Test_master)\n",
    "pre2 = np.exp(pre2) - 1\n",
    "pre2\n",
    "submission_lr = pd.concat([Test_id, pd.DataFrame(pre2)], axis=1)\n",
    "submission_lr.columns = ['id','trip_duration']\n",
    "submission_lr['trip_duration'] = submission_lr.apply(lambda x : 1 if (x['trip_duration'] <= 0) else x['trip_duration'], axis = 1)\n",
    "submission_lr.to_csv(\"submission_lr.csv\", index=False)\n",
    "print(score_lr)"
   ]
  },
  {
   "cell_type": "code",
   "execution_count": 70,
   "metadata": {},
   "outputs": [
    {
     "name": "stdout",
     "output_type": "stream",
     "text": [
      "0.6345027800328743\n"
     ]
    }
   ],
   "source": [
    "model_rr = Ridge(alpha=0.01)\n",
    "model_rr.fit(X_train, Y_train)\n",
    "score_rr = model_rr.score(X_test, Y_test)\n",
    "pre3 = model_rr.predict(Test_master)\n",
    "pre3 = np.exp(pre3) - 1\n",
    "pre3\n",
    "submission_rr = pd.concat([Test_id, pd.DataFrame(pre3)], axis=1)\n",
    "submission_rr.columns = ['id','trip_duration']\n",
    "submission_rr['trip_duration'] = submission_rr.apply(lambda x : 1 if (x['trip_duration'] <= 0) else x['trip_duration'], axis = 1)\n",
    "submission_rr.to_csv(\"submission_rr.csv\", index=False)\n",
    "print(score_rr)"
   ]
  },
  {
   "cell_type": "code",
   "execution_count": 71,
   "metadata": {},
   "outputs": [
    {
     "name": "stdout",
     "output_type": "stream",
     "text": [
      "0.5390148571581577\n"
     ]
    }
   ],
   "source": [
    "model_ls = Lasso(alpha=0.1, max_iter=10e5)\n",
    "model_ls.fit(X_train, Y_train)\n",
    "score_ls = model_ls.score(X_test, Y_test)\n",
    "pre4 = model_ls.predict(Test_master)\n",
    "pre4 = np.exp(pre4) - 1\n",
    "pre4\n",
    "submission_ls = pd.concat([Test_id, pd.DataFrame(pre3)], axis=1)\n",
    "submission_ls.columns = ['id','trip_duration']\n",
    "submission_ls['trip_duration'] = submission_ls.apply(lambda x : 1 if (x['trip_duration'] <= 0) else x['trip_duration'], axis = 1)\n",
    "submission_ls.to_csv(\"submission_ls.csv\", index=False)\n",
    "print(score_ls)"
   ]
  },
  {
   "cell_type": "markdown",
   "metadata": {},
   "source": []
  },
  {
   "cell_type": "code",
   "execution_count": 72,
   "metadata": {},
   "outputs": [
    {
     "name": "stdout",
     "output_type": "stream",
     "text": [
      "0.5384121580882615\n"
     ]
    }
   ],
   "source": [
    "model_en = ElasticNet(random_state=1)\n",
    "model_en.fit(X_train, Y_train)\n",
    "score_en = model_en.score(X_test, Y_test)\n",
    "pre5 = model_en.predict(Test_master)\n",
    "pre5 = np.exp(pre5) - 1\n",
    "pre5\n",
    "submission_en = pd.concat([Test_id, pd.DataFrame(pre3)], axis=1)\n",
    "submission_en.columns = ['id','trip_duration']\n",
    "submission_en['trip_duration'] = submission_en.apply(lambda x : 1 if (x['trip_duration'] <= 0) else x['trip_duration'], axis = 1)\n",
    "submission_en.to_csv(\"submission_en.csv\", index=False)\n",
    "print(score_en)"
   ]
  }
 ],
 "metadata": {
  "kernelspec": {
   "display_name": "Python 3",
   "language": "python",
   "name": "python3"
  },
  "language_info": {
   "codemirror_mode": {
    "name": "ipython",
    "version": 3
   },
   "file_extension": ".py",
   "mimetype": "text/x-python",
   "name": "python",
   "nbconvert_exporter": "python",
   "pygments_lexer": "ipython3",
   "version": "3.6.5"
  }
 },
 "nbformat": 4,
 "nbformat_minor": 2
}
